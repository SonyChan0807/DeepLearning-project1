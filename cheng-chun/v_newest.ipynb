{
 "cells": [
  {
   "cell_type": "markdown",
   "metadata": {},
   "source": [
    "### Libraries"
   ]
  },
  {
   "cell_type": "code",
   "execution_count": 1,
   "metadata": {
    "collapsed": true
   },
   "outputs": [],
   "source": [
    "import os\n",
    "import random\n",
    "import numpy as np\n",
    "import matplotlib.pyplot as plt\n",
    "\n",
    "import dlc_bci as bci\n",
    "from dlc_practical_prologue import *\n",
    "\n",
    "import torch\n",
    "from torch import nn\n",
    "from torch.nn import functional as F\n",
    "from torch.autograd import Variable\n",
    "\n",
    "import importlib\n",
    "# customized libraries\n",
    "import plot_lib as plib\n",
    "import preprocess as prep\n"
   ]
  },
  {
   "cell_type": "markdown",
   "metadata": {},
   "source": [
    "### Load dataset"
   ]
  },
  {
   "cell_type": "code",
   "execution_count": 2,
   "metadata": {
    "collapsed": true
   },
   "outputs": [],
   "source": [
    "# tr_input_org, tr_target_org = bci.load(\"bci\", train=True, one_khz=True)\n",
    "tr_input_org, tr_target_org = bci.load(\"bci\", train=True, one_khz=False)\n",
    "# te_input_org, te_target_org = bci.load(\"bci\", train=False, one_khz=True)\n",
    "te_input_org, te_target = bci.load(\"bci\", train=False, one_khz=False)\n",
    "\n",
    "\n",
    "tr_target_onehot = convert_to_one_hot_labels(tr_input_org, tr_target_org)\n",
    "te_target_onehot = convert_to_one_hot_labels(te_input_org, te_target)\n",
    "\n",
    "tr_target_onehot = Variable(tr_target_onehot)\n",
    "te_target_onehot = Variable(te_target_onehot)\n",
    "\n",
    "tr_target_org = Variable(tr_target_org)\n",
    "te_target = Variable(te_target)"
   ]
  },
  {
   "cell_type": "markdown",
   "metadata": {},
   "source": [
    "### Preprocessing - moving average / downsampling / DC blocker / DFT"
   ]
  },
  {
   "cell_type": "code",
   "execution_count": 3,
   "metadata": {
    "collapsed": true,
    "scrolled": false
   },
   "outputs": [],
   "source": [
    "importlib.reload(prep)\n",
    "tr_input = tr_input_org.clone()\n",
    "te_input = te_input_org.clone()\n",
    "tr_target = tr_target_org.clone()"
   ]
  },
  {
   "cell_type": "markdown",
   "metadata": {},
   "source": [
    "### Standardize"
   ]
  },
  {
   "cell_type": "code",
   "execution_count": 4,
   "metadata": {
    "collapsed": true
   },
   "outputs": [],
   "source": [
    "num_channel = tr_input.shape[1]\n",
    "signal_len = tr_input.shape[2]\n",
    "\n",
    "tr_input = torch.nn.functional.normalize(tr_input, p=2, dim=0) \n",
    "te_input = torch.nn.functional.normalize(te_input, p=2, dim=0) \n",
    "\n",
    "# Convert to 4D tensor [dataset size, number of channels, rows, cols]\n",
    "tr_input = tr_input[:, np.newaxis, :, :]\n",
    "te_input = te_input[:, np.newaxis, :, :]\n",
    "\n",
    "tr_input = Variable(tr_input)\n",
    "te_input = Variable(te_input)"
   ]
  },
  {
   "cell_type": "markdown",
   "metadata": {},
   "source": [
    "### training"
   ]
  },
  {
   "cell_type": "code",
   "execution_count": 5,
   "metadata": {
    "collapsed": true
   },
   "outputs": [],
   "source": [
    "class ConvNet4(nn.Module):\n",
    "    def __init__(self):\n",
    "        super(ConvNet4, self).__init__()\n",
    "\n",
    "        self.conv1 = nn.Conv2d(in_channels=1, out_channels=1, kernel_size=(1,13))\n",
    "        self.conv2 = nn.Conv2d(in_channels=1, out_channels=1, kernel_size=(28,7))\n",
    "        self.linear = nn.Linear(32, 2)\n",
    "        \n",
    "        \n",
    "    def forward(self, x, mode=False):\n",
    "        x = self.conv1(x)\n",
    "        x = self.conv2(x)\n",
    "\n",
    "        x = x.view(-1, x.size(2) * x.size(3))        \n",
    "        x = self.linear(x)\n",
    "        \n",
    "        return x"
   ]
  },
  {
   "cell_type": "code",
   "execution_count": 6,
   "metadata": {
    "collapsed": true
   },
   "outputs": [],
   "source": [
    "def cross_validation_batch(size, k):\n",
    "    num = size // k\n",
    "    rand_index = np.arange(size)\n",
    "    np.random.shuffle(rand_index)\n",
    "    \n",
    "    tr_indices = []\n",
    "    val_indices = []\n",
    "    for i in range(k):\n",
    "        \n",
    "        if i != k-1:\n",
    "            val_ind = rand_index[i*num:(i+1)*num]\n",
    "        else:\n",
    "            val_ind = rand_index[i*num:]\n",
    "        \n",
    "        val_indices.append(torch.from_numpy(val_ind))\n",
    "        tr_indices.append(torch.from_numpy(np.array(list(set(range(size)) - set(val_ind)))))\n",
    "    \n",
    "    return tr_indices, val_indices\n"
   ]
  },
  {
   "cell_type": "code",
   "execution_count": 17,
   "metadata": {
    "scrolled": true
   },
   "outputs": [
    {
     "name": "stdout",
     "output_type": "stream",
     "text": [
      "epoch 199 tr loss 0.33  val loss 0.29 te loss 0.58\n",
      "tr acc = 0.87\n",
      "te acc = 0.79\n",
      "val acc = 0.90\n",
      "epoch 199 tr loss 0.31  val loss 0.28 te loss 0.56\n",
      "tr acc = 0.86\n",
      "te acc = 0.78\n",
      "val acc = 0.90\n",
      "epoch 199 tr loss 0.33  val loss 0.50 te loss 0.64\n",
      "tr acc = 0.84\n",
      "te acc = 0.80\n",
      "val acc = 0.81\n",
      "epoch 199 tr loss 0.33  val loss 0.35 te loss 0.55\n",
      "tr acc = 0.88\n",
      "te acc = 0.79\n",
      "val acc = 0.84\n",
      "epoch 199 tr loss 0.31  val loss 0.83 te loss 0.68\n",
      "tr acc = 0.88\n",
      "te acc = 0.73\n",
      "val acc = 0.58\n",
      "epoch 199 tr loss 0.30  val loss 0.28 te loss 0.52\n",
      "tr acc = 0.87\n",
      "te acc = 0.79\n",
      "val acc = 0.87\n",
      "epoch 199 tr loss 0.32  val loss 0.36 te loss 0.62\n",
      "tr acc = 0.86\n",
      "te acc = 0.77\n",
      "val acc = 0.84\n",
      "epoch 199 tr loss 0.29  val loss 0.34 te loss 0.62\n",
      "tr acc = 0.88\n",
      "te acc = 0.79\n",
      "val acc = 0.84\n",
      "epoch 199 tr loss 0.29  val loss 0.46 te loss 0.58\n",
      "tr acc = 0.87\n",
      "te acc = 0.80\n",
      "val acc = 0.84\n",
      "epoch 199 tr loss 0.28  val loss 0.49 te loss 0.62\n",
      "tr acc = 0.90\n",
      "te acc = 0.77\n",
      "val acc = 0.81\n"
     ]
    }
   ],
   "source": [
    "importlib.reload(bci)\n",
    "model = ConvNet4()\n",
    "\n",
    "k = 10\n",
    "tr_indices, val_indices = cross_validation_batch(tr_input.shape[0], k)\n",
    "\n",
    "for tr_ind, val_ind in zip(tr_indices, val_indices):\n",
    "    model = ConvNet4()\n",
    "    \n",
    "    tr_input1 = tr_input[tr_ind]\n",
    "    tr_target1 = tr_target[tr_ind]\n",
    "    val_input = tr_input[val_ind]\n",
    "    val_target = tr_target[val_ind]\n",
    "    \n",
    "    tr_loss, va_loss, te_acc = bci.train_model('v7_4.pth', model, tr_input1, tr_target1, 10, val_input, val_target, te_input, te_target, 200)"
   ]
  },
  {
   "cell_type": "code",
   "execution_count": 18,
   "metadata": {
    "scrolled": false
   },
   "outputs": [
    {
     "data": {
      "image/png": "[encoded data removed]",
      "text/plain": [
       "<matplotlib.figure.Figure at 0x7ff382ebf390>"
      ]
     },
     "metadata": {},
     "output_type": "display_data"
    }
   ],
   "source": [
    "import matplotlib as mpl\n",
    "mpl.rcParams['figure.dpi']= 150\n",
    "\n",
    "plt.figure()\n",
    "plt.plot(tr_loss, label='training loss')\n",
    "plt.plot(va_loss, label='validation loss')\n",
    "plt.legend(loc='upper left')\n",
    "plt.show()"
   ]
  }
 ],
 "metadata": {
  "kernelspec": {
   "display_name": "Python 3",
   "language": "python",
   "name": "python3"
  },
  "language_info": {
   "codemirror_mode": {
    "name": "ipython",
    "version": 3
   },
   "file_extension": ".py",
   "mimetype": "text/x-python",
   "name": "python",
   "nbconvert_exporter": "python",
   "pygments_lexer": "ipython3",
   "version": "3.6.3"
  }
 },
 "nbformat": 4,
 "nbformat_minor": 2
}
