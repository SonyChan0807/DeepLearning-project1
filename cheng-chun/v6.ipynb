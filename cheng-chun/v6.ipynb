{
 "cells": [
  {
   "cell_type": "markdown",
   "metadata": {},
   "source": [
    "### Libraries"
   ]
  },
  {
   "cell_type": "code",
   "execution_count": 1,
   "metadata": {
    "collapsed": true
   },
   "outputs": [],
   "source": [
    "import os\n",
    "import numpy as np\n",
    "import matplotlib.pyplot as plt\n",
    "\n",
    "import dlc_bci as bci\n",
    "from dlc_practical_prologue import *\n",
    "\n",
    "import torch\n",
    "from torch import nn\n",
    "from torch.nn import functional as F\n",
    "from torch.autograd import Variable"
   ]
  },
  {
   "cell_type": "markdown",
   "metadata": {},
   "source": [
    "### Plot functions"
   ]
  },
  {
   "cell_type": "code",
   "execution_count": 2,
   "metadata": {
    "collapsed": true
   },
   "outputs": [],
   "source": [
    "def plot_channel(tr_input, tr_target, ch = 2, num = 4):\n",
    "\n",
    "    for i in range(num):\n",
    "        f, (ax1, ax2) = plt.subplots(1, 2, figsize=(12,4))\n",
    "\n",
    "        sample = tr_input[2*i,ch,:].numpy()  \n",
    "    #     sample = tr_input[0,2*i,:].numpy()\n",
    "        ax1.plot(sample)\n",
    "        ax1.set_title(tr_target[2*i][0])\n",
    "\n",
    "        sample = tr_input[2*i+1,ch,:].numpy()\n",
    "    #     sample = tr_input[0,2*i+1,:].numpy()\n",
    "        ax2.plot(sample)\n",
    "        ax2.set_title(tr_target[2*i+1][0])\n",
    "        plt.show()"
   ]
  },
  {
   "cell_type": "code",
   "execution_count": 3,
   "metadata": {
    "collapsed": true
   },
   "outputs": [],
   "source": [
    "def plot_fft(tr_input, ch = 2, num = 4):\n",
    "    \n",
    "    sample = tr_input[:num,ch,:].numpy()\n",
    "\n",
    "    for channel in sample:\n",
    "        f, (ax1, ax2) = plt.subplots(1, 2, figsize=(20,6))\n",
    "        sample_fft = np.fft.fft(channel)\n",
    "        ax1.plot(channel)\n",
    "        ax2.plot(abs(np.fft.fft(channel)))\n",
    "\n",
    "        plt.show()"
   ]
  },
  {
   "cell_type": "markdown",
   "metadata": {},
   "source": [
    "### Load dataset"
   ]
  },
  {
   "cell_type": "code",
   "execution_count": 5,
   "metadata": {},
   "outputs": [],
   "source": [
    "tr_input_org, tr_target = bci.load(\"bci\", train=True, one_khz=True)\n",
    "# tr_input, tr_target = bci.load(\"bci\", train=True, one_khz=False)\n",
    "te_input_org, te_target = bci.load(\"bci\", train=False, one_khz=True)\n",
    "# te_input, te_target = bci.load(\"bci\", train=False, one_khz=False)\n",
    "\n",
    "tr_target = convert_to_one_hot_labels(tr_input_org, tr_target)\n",
    "te_target = convert_to_one_hot_labels(te_input_org, te_target)"
   ]
  },
  {
   "cell_type": "markdown",
   "metadata": {},
   "source": [
    "### Preprocessing - moving average / downsampling / DC blocker / DFT"
   ]
  },
  {
   "cell_type": "code",
   "execution_count": 6,
   "metadata": {
    "collapsed": true
   },
   "outputs": [],
   "source": [
    "def conv_lowpass(signal, N):    \n",
    "    return np.convolve(signal, np.ones((N,))/N, mode='valid')\n",
    "\n",
    "def lowpass_filtering(signal, N):\n",
    "    sample = conv_lowpass(signal[0,0,:].numpy(), N)\n",
    "    \n",
    "    signal_filtered = torch.zeros([signal.shape[0], signal.shape[1], sample.shape[0]])\n",
    "\n",
    "    for idx1, data in enumerate(signal):\n",
    "        for idx2, channel in enumerate(data):\n",
    "            signal_filtered[idx1, idx2, :] = torch.from_numpy(conv_lowpass(channel.numpy(), N))\n",
    "    \n",
    "    return signal_filtered    \n",
    "\n",
    "def downsampling_filtering(signal, Nd):\n",
    "    sample = signal[0,0,:].numpy()[::Nd]\n",
    "    \n",
    "    signal_filtered = torch.zeros([signal.shape[0], signal.shape[1], sample.shape[0]])\n",
    "\n",
    "    for idx1, data in enumerate(signal):\n",
    "        for idx2, channel in enumerate(data):\n",
    "#             signal_filtered[idx1, idx2, :] = torch.from_numpy(channel.numpy()[::Nd])\n",
    "            signal_filtered[idx1, idx2, :] = channel[::Nd]\n",
    "    \n",
    "    return signal_filtered\n",
    "\n",
    "def dc_blocker(signal, alpha = 0.9):\n",
    "    y = np.zeros(signal.shape[0]+1)\n",
    "    y[0] = signal[0]\n",
    "    \n",
    "    for i in range(1, len(signal)):\n",
    "        y[i] = alpha * y[i-1] + signal[i] - signal[i-1]\n",
    "        i+=1\n",
    "    \n",
    "    return y\n",
    "\n",
    "def dc_blocker_filtering(signal, alpha_ = 0.9):\n",
    "    sample = dc_blocker(signal[0,0,:].numpy(), alpha=alpha_)\n",
    "    signal_filtered = torch.zeros([signal.shape[0], signal.shape[1], sample.shape[0]])\n",
    "    \n",
    "    for idx1, data in enumerate(signal):\n",
    "        for idx2, channel in enumerate(data):\n",
    "            signal_filtered[idx1, idx2, :] = torch.from_numpy(dc_blocker(channel.numpy(), alpha=alpha_))\n",
    "    \n",
    "    return signal_filtered\n",
    "\n",
    "\n",
    "def fft_data(signal, size):\n",
    "    sample_fft = np.fft.fft(signal)\n",
    "    sample_angle = np.angle(sample_fft)\n",
    "    \n",
    "    return np.append(abs(sample_fft)[0:size],sample_angle[0:size])\n",
    "\n",
    "def fft_input_generation(signal, size):\n",
    "    sample = fft_data(signal[0,0,:].numpy(), size)\n",
    "    signal_filtered = torch.zeros([signal.shape[0], signal.shape[1], sample.shape[0]])\n",
    "    \n",
    "#     print(signal.shape)\n",
    "#     print(signal_filtered.shape)\n",
    "    for idx1, data in enumerate(signal):\n",
    "        for idx2, channel in enumerate(data):\n",
    "#             print(signal_filtered.shape)\n",
    "            signal_filtered[idx1, idx2, :] = torch.from_numpy(fft_data(channel.numpy(), size))\n",
    "    return signal_filtered"
   ]
  },
  {
   "cell_type": "code",
   "execution_count": 7,
   "metadata": {
    "collapsed": true,
    "scrolled": false
   },
   "outputs": [],
   "source": [
    "# moving average\n",
    "\n",
    "N = 10\n",
    "\n",
    "# downsampling\n",
    "\n",
    "Nd = 10\n",
    "\n",
    "# DC blocker\n",
    "\n",
    "alpha = 0.9\n",
    "\n",
    "# FFT extraction\n",
    "\n",
    "size = 20\n",
    "\n",
    "tr_input = lowpass_filtering(tr_input_org, N)\n",
    "tr_input = downsampling_filtering(tr_input, Nd)\n",
    "tr_input = dc_blocker_filtering(tr_input, alpha)\n",
    "tr_input = fft_input_generation(tr_input, int(size/2))\n",
    "\n",
    "te_input = lowpass_filtering(te_input_org, N)\n",
    "te_input = downsampling_filtering(te_input, Nd)\n",
    "te_input = dc_blocker_filtering(te_input, alpha)\n",
    "te_input = fft_input_generation(te_input, int(size/2))\n",
    "\n",
    "# tr_input_fft = fft_input_generation(tr_input, 25)\n",
    "\n",
    "# tr_input_low = lowpass_filtering(tr_input, N)\n",
    "# \n",
    "# plot_channel(tr_input, tr_target)\n",
    "# plot_channel(tr_input_low, tr_target)\n"
   ]
  },
  {
   "cell_type": "markdown",
   "metadata": {},
   "source": [
    "### Standardize"
   ]
  },
  {
   "cell_type": "code",
   "execution_count": 8,
   "metadata": {
    "collapsed": true
   },
   "outputs": [],
   "source": [
    "tr_target = Variable(tr_target)\n",
    "te_target = Variable(te_target)"
   ]
  },
  {
   "cell_type": "code",
   "execution_count": 9,
   "metadata": {
    "collapsed": true
   },
   "outputs": [],
   "source": [
    "num_channel = tr_input.shape[1]\n",
    "signal_len = tr_input.shape[2]\n",
    "\n",
    "tr_input = torch.nn.functional.normalize(tr_input, p=2, dim=0) \n",
    "te_input = torch.nn.functional.normalize(te_input, p=2, dim=0) \n",
    "\n",
    "# tr_input, tr_target = Variable(tr_input.view(-1,num_channel*signal_len)), Variable(tr_target)\n",
    "# te_input, te_target = Variable(te_input.view(-1,num_channel*signal_len)), Variable(te_target)\n",
    "\n",
    "tr_input = Variable(tr_input.view(-1,num_channel*signal_len))\n",
    "te_input = Variable(te_input.view(-1,num_channel*signal_len))"
   ]
  },
  {
   "cell_type": "code",
   "execution_count": 70,
   "metadata": {
    "collapsed": true
   },
   "outputs": [],
   "source": [
    "# from sklearn.decomposition import PCA\n",
    "# pca = PCA(n_components=30)\n",
    "# pca.fit_transform(X=tr_input)"
   ]
  },
  {
   "cell_type": "markdown",
   "metadata": {},
   "source": [
    "### training"
   ]
  },
  {
   "cell_type": "code",
   "execution_count": 10,
   "metadata": {
    "collapsed": true
   },
   "outputs": [],
   "source": [
    "class Net(nn.Module):\n",
    "    def __init__(self, num_channel, signal_len):\n",
    "        super(Net, self).__init__()\n",
    "#         self.fc1 = nn.Linear(size[1] * size[2], size[2])\n",
    "#         self.fc2 = nn.Linear(size[2], size[2])\n",
    "#         self.fc3 = nn.Linear(size[2], 2)\n",
    "        self.fc1 = nn.Linear(num_channel * signal_len, signal_len)\n",
    "        self.fc2 = nn.Linear(signal_len, signal_len)\n",
    "        self.fc3 = nn.Linear(signal_len, 2)\n",
    "#         self.fc1 = nn.Linear(28 * 500, 500)\n",
    "#         self.fc2 = nn.Linear(500, 500)\n",
    "#         self.fc3 = nn.Linear(500, 2)\n",
    "        \n",
    "    def forward(self, x, mode=False):\n",
    "        x = F.relu(self.fc1(x))\n",
    "        x = F.dropout(x, p=0.5)\n",
    "        x = F.relu(self.fc2(x))\n",
    "        x = F.dropout(x, p=0.5)\n",
    "        x = self.fc3(x)\n",
    "        return x"
   ]
  },
  {
   "cell_type": "code",
   "execution_count": 17,
   "metadata": {
    "scrolled": true
   },
   "outputs": [
    {
     "name": "stdout",
     "output_type": "stream",
     "text": [
      "epoch 0 tr loss 80.43 te loss 25.19\n",
      "epoch 1 tr loss 79.46 te loss 25.05\n",
      "epoch 2 tr loss 79.33 te loss 25.02\n",
      "epoch 3 tr loss 79.29 te loss 25.01\n",
      "epoch 4 tr loss 79.28 te loss 25.00\n",
      "epoch 5 tr loss 79.26 te loss 25.00\n",
      "epoch 6 tr loss 79.25 te loss 25.00\n",
      "epoch 7 tr loss 79.23 te loss 24.99\n",
      "epoch 8 tr loss 79.22 te loss 24.99\n",
      "epoch 9 tr loss 79.21 te loss 24.99\n",
      "epoch 10 tr loss 79.19 te loss 24.98\n",
      "epoch 11 tr loss 79.18 te loss 24.98\n",
      "epoch 12 tr loss 79.16 te loss 24.98\n",
      "epoch 13 tr loss 79.14 te loss 24.98\n",
      "epoch 14 tr loss 79.13 te loss 24.97\n",
      "epoch 15 tr loss 79.11 te loss 24.97\n",
      "epoch 16 tr loss 79.09 te loss 24.97\n",
      "epoch 17 tr loss 79.07 te loss 24.97\n",
      "epoch 18 tr loss 79.05 te loss 24.97\n",
      "epoch 19 tr loss 79.03 te loss 24.96\n",
      "epoch 20 tr loss 79.00 te loss 24.96\n",
      "epoch 21 tr loss 78.98 te loss 24.96\n",
      "epoch 22 tr loss 78.95 te loss 24.96\n",
      "epoch 23 tr loss 78.92 te loss 24.96\n",
      "epoch 24 tr loss 78.88 te loss 24.96\n",
      "epoch 25 tr loss 78.85 te loss 24.96\n",
      "epoch 26 tr loss 78.81 te loss 24.95\n",
      "epoch 27 tr loss 78.77 te loss 24.95\n",
      "epoch 28 tr loss 78.72 te loss 24.95\n",
      "epoch 29 tr loss 78.67 te loss 24.95\n",
      "epoch 30 tr loss 78.61 te loss 24.95\n",
      "epoch 31 tr loss 78.55 te loss 24.95\n",
      "epoch 32 tr loss 78.48 te loss 24.95\n",
      "epoch 33 tr loss 78.41 te loss 24.94\n",
      "epoch 34 tr loss 78.33 te loss 24.95\n",
      "epoch 35 tr loss 78.23 te loss 24.95\n",
      "epoch 36 tr loss 78.13 te loss 24.95\n",
      "epoch 37 tr loss 78.01 te loss 24.96\n",
      "epoch 38 tr loss 77.88 te loss 24.97\n",
      "epoch 39 tr loss 77.74 te loss 24.98\n",
      "epoch 40 tr loss 77.58 te loss 25.00\n",
      "epoch 41 tr loss 77.39 te loss 25.03\n",
      "epoch 42 tr loss 77.18 te loss 25.07\n",
      "epoch 43 tr loss 76.95 te loss 25.12\n",
      "epoch 44 tr loss 76.69 te loss 25.18\n",
      "epoch 45 tr loss 76.39 te loss 25.25\n",
      "epoch 46 tr loss 76.06 te loss 25.37\n",
      "epoch 47 tr loss 75.68 te loss 25.51\n",
      "epoch 48 tr loss 75.26 te loss 25.68\n",
      "epoch 49 tr loss 74.76 te loss 25.92\n",
      "epoch 50 tr loss 74.21 te loss 26.22\n",
      "epoch 51 tr loss 73.62 te loss 26.59\n",
      "epoch 52 tr loss 72.95 te loss 27.07\n",
      "epoch 53 tr loss 72.20 te loss 27.68\n",
      "epoch 54 tr loss 71.36 te loss 28.39\n",
      "epoch 55 tr loss 70.46 te loss 29.31\n",
      "epoch 56 tr loss 69.51 te loss 30.38\n",
      "epoch 57 tr loss 68.50 te loss 31.70\n",
      "epoch 58 tr loss 67.44 te loss 33.12\n",
      "epoch 59 tr loss 66.32 te loss 34.72\n",
      "epoch 60 tr loss 65.17 te loss 36.46\n",
      "epoch 61 tr loss 63.98 te loss 38.30\n",
      "epoch 62 tr loss 62.81 te loss 40.11\n",
      "epoch 63 tr loss 61.65 te loss 41.94\n",
      "epoch 64 tr loss 60.52 te loss 43.54\n",
      "epoch 65 tr loss 59.34 te loss 45.20\n",
      "epoch 66 tr loss 58.17 te loss 46.63\n",
      "epoch 67 tr loss 56.96 te loss 47.86\n",
      "epoch 68 tr loss 55.75 te loss 48.85\n",
      "epoch 69 tr loss 54.65 te loss 49.70\n",
      "epoch 70 tr loss 53.48 te loss 50.76\n",
      "epoch 71 tr loss 52.27 te loss 51.59\n",
      "epoch 72 tr loss 51.11 te loss 51.64\n",
      "epoch 73 tr loss 50.03 te loss 52.12\n",
      "epoch 74 tr loss 48.79 te loss 52.65\n",
      "epoch 75 tr loss 47.48 te loss 52.93\n",
      "epoch 76 tr loss 46.24 te loss 52.91\n",
      "epoch 77 tr loss 45.00 te loss 52.37\n",
      "epoch 78 tr loss 43.86 te loss 52.62\n",
      "epoch 79 tr loss 42.65 te loss 52.11\n",
      "epoch 80 tr loss 41.37 te loss 51.82\n",
      "epoch 81 tr loss 40.35 te loss 51.96\n",
      "epoch 82 tr loss 39.00 te loss 51.69\n",
      "epoch 83 tr loss 37.91 te loss 51.40\n",
      "epoch 84 tr loss 36.67 te loss 51.45\n",
      "epoch 85 tr loss 35.51 te loss 51.15\n",
      "epoch 86 tr loss 34.46 te loss 51.30\n",
      "epoch 87 tr loss 33.37 te loss 51.75\n",
      "epoch 88 tr loss 31.95 te loss 51.71\n",
      "epoch 89 tr loss 30.80 te loss 51.95\n",
      "epoch 90 tr loss 29.73 te loss 51.98\n",
      "epoch 91 tr loss 28.62 te loss 52.41\n",
      "epoch 92 tr loss 27.54 te loss 52.37\n",
      "epoch 93 tr loss 26.45 te loss 52.41\n",
      "epoch 94 tr loss 25.39 te loss 52.43\n",
      "epoch 95 tr loss 24.26 te loss 52.68\n",
      "epoch 96 tr loss 23.26 te loss 52.61\n",
      "epoch 97 tr loss 22.12 te loss 52.65\n",
      "epoch 98 tr loss 21.20 te loss 52.39\n",
      "epoch 99 tr loss 20.17 te loss 53.05\n",
      "tr error 16.46% 52/316\n",
      "te error 44.00% 44/100\n"
     ]
    }
   ],
   "source": [
    "# construct and train model\n",
    "model = Net(num_channel, signal_len)\n",
    "tr_loss, te_loss = bci.train_model(model, tr_input, tr_target, 4, te_input, te_target, 4, 100)\n",
    "torch.save(model.state_dict(), os.getcwd() + \"v1.pth\")\n",
    "\n",
    "# compute train and test errors\n",
    "nb_tr_errors = bci.compute_nb_errors(model, tr_input, tr_target, 4)\n",
    "nb_te_errors = bci.compute_nb_errors(model, te_input, te_target, 4)\n",
    "\n",
    "print('tr error {:0.2f}% {:d}/{:d}'.format((100 * nb_tr_errors) / tr_input.size(0), nb_tr_errors, tr_input.size(0)))\n",
    "print('te error {:0.2f}% {:d}/{:d}'.format((100 * nb_te_errors) / te_input.size(0), nb_te_errors, te_input.size(0)))"
   ]
  },
  {
   "cell_type": "code",
   "execution_count": 18,
   "metadata": {
    "scrolled": false
   },
   "outputs": [
    {
     "data": {
      "image/png": "[encoded data removed]",
      "text/plain": [
       "<matplotlib.figure.Figure at 0x7fa9c39aaa90>"
      ]
     },
     "metadata": {},
     "output_type": "display_data"
    }
   ],
   "source": [
    "import matplotlib as mpl\n",
    "mpl.rcParams['figure.dpi']= 150\n",
    "\n",
    "plt.figure()\n",
    "plt.plot(tr_loss, label='training loss')\n",
    "plt.plot(te_loss, label='validation loss')\n",
    "plt.legend(loc='upper left')\n",
    "plt.show()"
   ]
  },
  {
   "cell_type": "markdown",
   "metadata": {},
   "source": [
    "### record"
   ]
  },
  {
   "cell_type": "code",
   "execution_count": null,
   "metadata": {
    "collapsed": true
   },
   "outputs": [],
   "source": [
    "# samples = tr_input[0,:,:].numpy()\n",
    "# for sample in samples:\n",
    "# #     sample = sample[0,:]\n",
    "# #     sample = samples[0,0,:]\n",
    "#     f, (ax1, ax2) = plt.subplots(1, 2, figsize=(20,6))\n",
    "#     ax1.plot(sample)\n",
    "#     ax2.plot(abs(np.fft.fft(sample)))\n",
    "#     plt.show()\n",
    "\n",
    "#     N = 10\n",
    "#     sample_filtered = np.convolve(sample, np.ones((N,))/N, mode='valid')\n",
    "\n",
    "#     f, (ax1, ax2) = plt.subplots(1, 2, figsize=(20,6))\n",
    "#     ax1.plot(sample_filtered)\n",
    "#     ax2.plot(abs(np.fft.fft(sample_filtered)))\n",
    "#     plt.show()"
   ]
  },
  {
   "cell_type": "code",
   "execution_count": null,
   "metadata": {
    "collapsed": true
   },
   "outputs": [],
   "source": [
    "# # size of moving average filter\n",
    "# N = 10 \n",
    "# # downsampling\n",
    "# Nd = 5\n",
    "# sample = lowpass_filtering(tr_input[0,0,:].numpy(), N)[::Nd]\n",
    "\n",
    "# tr_input_filtered = torch.zeros([tr_input.shape[0],tr_input.shape[1],sample.shape[0]])\n",
    "# te_input_filtered = torch.zeros([te_input.shape[0],te_input.shape[1],sample.shape[0]])\n",
    "\n",
    "# for idx1, data in enumerate(tr_input):\n",
    "#     for idx2, channel in enumerate(data):\n",
    "#         tr_input_filtered[idx1, idx2, :] = torch.from_numpy(lowpass_filtering(channel.numpy(), 10)[::Nd])\n",
    "\n",
    "# for idx1, data in enumerate(te_input):\n",
    "#     for idx2, channel in enumerate(data):\n",
    "#         te_input_filtered[idx1, idx2, :] = torch.from_numpy(lowpass_filtering(channel.numpy(), 10)[::Nd])\n",
    "# tr_input = tr_input_filtered\n",
    "# te_input = te_input_filtered"
   ]
  },
  {
   "cell_type": "code",
   "execution_count": 80,
   "metadata": {
    "collapsed": true
   },
   "outputs": [],
   "source": [
    "# sample = dc_blocker(tr_input[0,0,:].numpy())\n",
    "\n",
    "# tr_input_filtered = torch.zeros([tr_input.shape[0],tr_input.shape[1],sample.shape[0]])\n",
    "# te_input_filtered = torch.zeros([te_input.shape[0],te_input.shape[1],sample.shape[0]])\n",
    "\n",
    "# for idx1, data in enumerate(tr_input):\n",
    "#     for idx2, channel in enumerate(data):\n",
    "#         tr_input_filtered[idx1, idx2, :] = torch.from_numpy(dc_blocker(channel.numpy()))\n",
    "\n",
    "# for idx1, data in enumerate(te_input):\n",
    "#     for idx2, channel in enumerate(data):\n",
    "#         te_input_filtered[idx1, idx2, :] = torch.from_numpy(dc_blocker(channel.numpy()))\n",
    "\n",
    "\n",
    "# tr_input = tr_input_filtered\n",
    "# te_input = te_input_filtered\n",
    "\n",
    "# sample = tr_input[1,6,:].numpy()\n",
    "# f, (ax1, ax2) = plt.subplots(1, 2, figsize=(20,6))\n",
    "# ax1.plot(sample)\n",
    "# sample_dc = dc_blocker(sample)\n",
    "# ax2.plot(sample_dc)\n",
    "# plt.show()"
   ]
  },
  {
   "cell_type": "code",
   "execution_count": 83,
   "metadata": {
    "collapsed": true
   },
   "outputs": [],
   "source": [
    "# sample = tr_input[:,11,:].numpy()\n",
    "# for channel in sample[0:4]:\n",
    "# #     plt.plot(channel)\n",
    "#     f, (ax1, ax2) = plt.subplots(1, 2, figsize=(20,6))\n",
    "# #     ax1.plot(channel)\n",
    "#     sample_fft = np.fft.fft(channel)\n",
    "# #     ax1.plot(abs(sample_fft))\n",
    "#     ax1.plot(channel)\n",
    "# #     ax2.plot(np.angle(sample_fft))\n",
    "#     ax2.plot(abs(np.fft.fft(channel)))\n",
    "\n",
    "#     plt.show()"
   ]
  },
  {
   "cell_type": "code",
   "execution_count": 97,
   "metadata": {
    "collapsed": true
   },
   "outputs": [],
   "source": [
    "# def fft_data(signal, size = 20):\n",
    "#     sample_fft = np.fft.fft(signal)\n",
    "#     sample_angle = np.angle(sample_fft)\n",
    "    \n",
    "#     return np.append(abs(sample_fft)[0:size],sample_angle[0:size])\n",
    "\n",
    "\n",
    "# sample = fft_data(tr_input[0,0,:].numpy())\n",
    "\n",
    "# tr_input_filtered = torch.zeros([tr_input.shape[0],tr_input.shape[1],sample.shape[0]])\n",
    "# te_input_filtered = torch.zeros([te_input.shape[0],te_input.shape[1],sample.shape[0]])\n",
    "\n",
    "# for idx1, data in enumerate(tr_input):\n",
    "#     for idx2, channel in enumerate(data):\n",
    "#         tr_input_filtered[idx1, idx2, :] = torch.from_numpy(fft_data(channel.numpy()))\n",
    "\n",
    "# for idx1, data in enumerate(te_input):\n",
    "#     for idx2, channel in enumerate(data):\n",
    "#         te_input_filtered[idx1, idx2, :] = torch.from_numpy(fft_data(channel.numpy()))\n",
    "\n",
    "\n",
    "# tr_input = tr_input_filtered\n",
    "# te_input = te_input_filtered\n"
   ]
  }
 ],
 "metadata": {
  "kernelspec": {
   "display_name": "Python 3",
   "language": "python",
   "name": "python3"
  },
  "language_info": {
   "codemirror_mode": {
    "name": "ipython",
    "version": 3
   },
   "file_extension": ".py",
   "mimetype": "text/x-python",
   "name": "python",
   "nbconvert_exporter": "python",
   "pygments_lexer": "ipython3",
   "version": "3.6.3"
  }
 },
 "nbformat": 4,
 "nbformat_minor": 2
}
