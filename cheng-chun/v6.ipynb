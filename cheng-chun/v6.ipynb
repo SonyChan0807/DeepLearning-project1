{
 "cells": [
  {
   "cell_type": "markdown",
   "metadata": {},
   "source": [
    "### Libraries"
   ]
  },
  {
   "cell_type": "code",
   "execution_count": 1,
   "metadata": {
    "collapsed": true
   },
   "outputs": [],
   "source": [
    "import os\n",
    "import numpy as np\n",
    "import matplotlib.pyplot as plt\n",
    "\n",
    "import dlc_bci as bci\n",
    "from dlc_practical_prologue import *\n",
    "\n",
    "import torch\n",
    "from torch import nn\n",
    "from torch.nn import functional as F\n",
    "from torch.autograd import Variable\n",
    "from scipy.signal import hilbert, chirp\n",
    "from scipy import signal"
   ]
  },
  {
   "cell_type": "markdown",
   "metadata": {},
   "source": [
    "### Plot functions"
   ]
  },
  {
   "cell_type": "code",
   "execution_count": 2,
   "metadata": {
    "collapsed": true
   },
   "outputs": [],
   "source": [
    "def plot_channel(tr_input, tr_target, ch = 2, num = 4):\n",
    "\n",
    "    for i in range(num):\n",
    "        f, (ax1, ax2) = plt.subplots(1, 2, figsize=(12,4))\n",
    "\n",
    "        sample = tr_input[2*i,ch,:].numpy()  \n",
    "    #     sample = tr_input[0,2*i,:].numpy()\n",
    "        ax1.plot(sample)\n",
    "        ax1.set_title(tr_target[2*i][0])\n",
    "\n",
    "        sample = tr_input[2*i+1,ch,:].numpy()\n",
    "    #     sample = tr_input[0,2*i+1,:].numpy()\n",
    "        ax2.plot(sample)\n",
    "        ax2.set_title(tr_target[2*i+1][0])\n",
    "        plt.show()"
   ]
  },
  {
   "cell_type": "code",
   "execution_count": 3,
   "metadata": {
    "collapsed": true
   },
   "outputs": [],
   "source": [
    "def plot_fft(tr_input, tr_target, ch = 2, num = 4, target = 1):\n",
    "    \n",
    "    sample = tr_input[:num,ch,:].numpy()\n",
    "    sample_target = tr_target[:num,0]\n",
    "    \n",
    "    for t, channel in zip(sample_target, sample):\n",
    "        if int(t == target):\n",
    "            f, (ax1, ax2) = plt.subplots(1, 2, figsize=(20,6))\n",
    "            sample_fft = np.fft.fft(channel)\n",
    "            ax1.plot(channel)\n",
    "            ax2.plot(abs(np.fft.fft(channel)))\n",
    "\n",
    "            plt.show()"
   ]
  },
  {
   "cell_type": "code",
   "execution_count": 4,
   "metadata": {
    "collapsed": true
   },
   "outputs": [],
   "source": [
    "def plot_spectrogram(tr_input, tr_target, ch = 2, num = 4, target = 1, freq = 100, nseg = 10):\n",
    "    \n",
    "    sample = tr_input[:num,ch,:].numpy()\n",
    "    sample_target = tr_target[:num,0]\n",
    "    \n",
    "    for t, channel in zip(sample_target, sample):\n",
    "        if int(t == target):\n",
    "            f, t, Sxx = signal.spectrogram(channel, freq, nperseg=nseg)\n",
    "            plt.pcolormesh(t, f, Sxx)\n",
    "            plt.ylabel('Frequency [Hz]')\n",
    "            plt.xlabel('Time [sec]')\n",
    "            plt.show()\n"
   ]
  },
  {
   "cell_type": "code",
   "execution_count": 88,
   "metadata": {
    "collapsed": true
   },
   "outputs": [],
   "source": [
    "# f, t, Sxx = signal.spectrogram(tr_input[0,0,:], 100, nperseg=10)\n",
    "# plt.pcolormesh(t, f, Sxx)\n",
    "# plt.ylabel('Frequency [Hz]')\n",
    "# plt.xlabel('Time [sec]')\n",
    "# plt.show()\n",
    "# plot_spectrogram(tr_input, tr_target, ch=2, num=30, target=1, freq=100, nseg=10)"
   ]
  },
  {
   "cell_type": "code",
   "execution_count": 5,
   "metadata": {
    "collapsed": true
   },
   "outputs": [],
   "source": [
    "def plot_pair(before, after, ch = 2, num = 4):\n",
    "    sample_before = before[:num,ch,:].numpy()\n",
    "    sample_after = after[:num,ch,:].numpy()\n",
    "    \n",
    "    for channel1, channel2 in zip(sample_before, sample_after):\n",
    "        f, (ax1, ax2) = plt.subplots(1, 2, figsize=(20,6), sharey=True)\n",
    "        ax1.plot(channel1)\n",
    "        ax2.plot(channel2)\n",
    "        \n",
    "        plt.show()"
   ]
  },
  {
   "cell_type": "markdown",
   "metadata": {},
   "source": [
    "### Load dataset"
   ]
  },
  {
   "cell_type": "code",
   "execution_count": 6,
   "metadata": {
    "collapsed": true
   },
   "outputs": [],
   "source": [
    "# tr_input_org, tr_target = bci.load(\"bci\", train=True, one_khz=True)\n",
    "tr_input_org, tr_target = bci.load(\"bci\", train=True, one_khz=False)\n",
    "# te_input_org, te_target = bci.load(\"bci\", train=False, one_khz=True)\n",
    "te_input_org, te_target = bci.load(\"bci\", train=False, one_khz=False)\n",
    "\n",
    "tr_target = convert_to_one_hot_labels(tr_input_org, tr_target)\n",
    "te_target = convert_to_one_hot_labels(te_input_org, te_target)\n",
    "\n",
    "tr_target = Variable(tr_target)\n",
    "te_target = Variable(te_target)"
   ]
  },
  {
   "cell_type": "markdown",
   "metadata": {},
   "source": [
    "### Preprocessing - moving average / downsampling / DC blocker / DFT"
   ]
  },
  {
   "cell_type": "code",
   "execution_count": 7,
   "metadata": {
    "collapsed": true
   },
   "outputs": [],
   "source": [
    "def conv_lowpass(signal, N):    \n",
    "    return np.convolve(signal, np.ones((N,))/N, mode='valid')\n",
    "\n",
    "def lowpass_filtering(signal, N):\n",
    "    sample = conv_lowpass(signal[0,0,:].numpy(), N)\n",
    "    \n",
    "    signal_filtered = torch.zeros([signal.shape[0], signal.shape[1], sample.shape[0]])\n",
    "\n",
    "    for idx1, data in enumerate(signal):\n",
    "        for idx2, channel in enumerate(data):\n",
    "            signal_filtered[idx1, idx2, :] = torch.from_numpy(conv_lowpass(channel.numpy(), N))\n",
    "    \n",
    "    return signal_filtered    \n",
    "\n",
    "def downsampling_filtering(signal, Nd):\n",
    "    sample = signal[0,0,:].numpy()[::Nd]\n",
    "    \n",
    "    signal_filtered = torch.zeros([signal.shape[0], signal.shape[1], sample.shape[0]])\n",
    "\n",
    "    for idx1, data in enumerate(signal):\n",
    "        for idx2, channel in enumerate(data):\n",
    "#             signal_filtered[idx1, idx2, :] = torch.from_numpy(channel.numpy()[::Nd])\n",
    "            signal_filtered[idx1, idx2, :] = channel[::Nd]\n",
    "    \n",
    "    return signal_filtered\n",
    "\n",
    "def dc_blocker(signal, alpha = 0.9):\n",
    "    y = np.zeros(signal.shape[0]+1)\n",
    "    y[0] = signal[0]\n",
    "    \n",
    "    for i in range(1, len(signal)):\n",
    "        y[i] = alpha * y[i-1] + signal[i] - signal[i-1]\n",
    "        i+=1\n",
    "    \n",
    "    return y\n",
    "\n",
    "def dc_blocker_filtering(signal, alpha_ = 0.9):\n",
    "    sample = dc_blocker(signal[0,0,:].numpy(), alpha=alpha_)\n",
    "    signal_filtered = torch.zeros([signal.shape[0], signal.shape[1], sample.shape[0]])\n",
    "    \n",
    "    for idx1, data in enumerate(signal):\n",
    "        for idx2, channel in enumerate(data):\n",
    "            signal_filtered[idx1, idx2, :] = torch.from_numpy(dc_blocker(channel.numpy(), alpha=alpha_))\n",
    "    \n",
    "    return signal_filtered\n",
    "\n",
    "\n",
    "def fft_data(signal, size, with_phase):\n",
    "    sample_fft = np.fft.fft(signal)\n",
    "    sample_angle = np.angle(sample_fft)\n",
    "    \n",
    "    if with_phase:\n",
    "        return np.append(abs(sample_fft)[0:size],sample_angle[0:size])\n",
    "    else:\n",
    "        return abs(sample_fft)[0:size]\n",
    "\n",
    "def fft_input_generation(signal, size, with_phase):\n",
    "    sample = fft_data(signal[0,0,:].numpy(), size, with_phase)\n",
    "    signal_filtered = torch.zeros([signal.shape[0], signal.shape[1], sample.shape[0]])\n",
    "    \n",
    "    for idx1, data in enumerate(signal):\n",
    "        for idx2, channel in enumerate(data):\n",
    "            signal_filtered[idx1, idx2, :] = torch.from_numpy(fft_data(channel.numpy(), size, with_phase))\n",
    "    return signal_filtered\n",
    "\n",
    "def spectrogram_data(signal_, freq, npers):\n",
    "    f, t, Sxx = signal.spectrogram(signal_, freq, nperseg=npers)\n",
    "    return Sxx.ravel()\n",
    "\n",
    "def spectrogram_input_generation(signal_, freq = 100, npers = 10):\n",
    "    sample = spectrogram_data(signal_[0,0,:], freq, npers)\n",
    "    signal_filtered = torch.zeros([signal_.shape[0], signal_.shape[1], sample.shape[0]])\n",
    "\n",
    "    for idx1, data in enumerate(signal_):\n",
    "        for idx2, channel in enumerate(data):\n",
    "            signal_filtered[idx1, idx2, :] = torch.from_numpy(spectrogram_data(channel, freq, npers))\n",
    "    return signal_filtered\n",
    "    \n",
    "def peak_detector(signal, N):\n",
    "    length = signal.shape[0]\n",
    "    result = np.zeros(length - N)\n",
    "    for i in range(length - N):\n",
    "        result[i] = np.max(signal[i:i+N])\n",
    "    \n",
    "    return result\n",
    "def peak_detector_filtering(signal, N):\n",
    "    sample = peak_detector(signal[0,0,:].numpy(), N)\n",
    "    \n",
    "#     print(signal[0,0,:].shape[0])\n",
    "    signal_filtered = torch.zeros([signal.shape[0], signal.shape[1], sample.shape[0]])\n",
    "\n",
    "    for idx1, data in enumerate(signal):\n",
    "        for idx2, channel in enumerate(data):\n",
    "            signal_filtered[idx1, idx2, :] = torch.from_numpy(peak_detector(channel.numpy(), N))\n",
    "    \n",
    "    return signal_filtered    "
   ]
  },
  {
   "cell_type": "code",
   "execution_count": 30,
   "metadata": {
    "collapsed": true
   },
   "outputs": [],
   "source": [
    "# plot_channel(tr_input=tr_input_org, tr_target=tr_target)\n",
    "\n",
    "# signal = tr_input_org[0,0,:]\n",
    "# analytic_signal = hilbert(signal)\n",
    "# amplitude_envelope = np.abs(analytic_signal)\n",
    "# # instantaneous_phase = np.unwrap(np.angle(analytic_signal))\n",
    "# # instantaneous_frequency = (np.diff(instantaneous_phase)/(2.0*np.pi) * fs)\n",
    "\n",
    "# f, (ax1, ax2) = plt.subplots(1, 2, figsize=(12,4), sharey=True)\n",
    "# ax1.plot(signal.numpy())\n",
    "# ax2.plot(amplitude_envelope)\n",
    "# plt.show()"
   ]
  },
  {
   "cell_type": "code",
   "execution_count": 11,
   "metadata": {
    "collapsed": true
   },
   "outputs": [],
   "source": [
    "# plot_channel(tr_input_org, tr_target)\n",
    "# plot_fft(tr_input_org)"
   ]
  },
  {
   "cell_type": "code",
   "execution_count": 116,
   "metadata": {
    "collapsed": true
   },
   "outputs": [],
   "source": [
    "# f,t,Sxx = signal.spectrogram(tr_input[0,0,:], 100, nperseg=10)"
   ]
  },
  {
   "cell_type": "code",
   "execution_count": 136,
   "metadata": {
    "collapsed": true
   },
   "outputs": [],
   "source": []
  },
  {
   "cell_type": "code",
   "execution_count": 8,
   "metadata": {
    "collapsed": true,
    "scrolled": false
   },
   "outputs": [],
   "source": [
    "# moving average\n",
    "N = 10\n",
    "# downsampling\n",
    "Nd = 10\n",
    "# DC blocker\n",
    "alpha = 0.9\n",
    "# find peak\n",
    "Np = 4\n",
    "# FFT extraction\n",
    "size = 100\n",
    "\n",
    "\n",
    "tr_input = tr_input_org.clone()\n",
    "te_input = te_input_org.clone()\n",
    "\n",
    "\n",
    "# tr_input = tr_input[:,:15,:]\n",
    "# te_input = te_input[:,:15,:]\n",
    "\n",
    "# peak detector\n",
    "# tr_input = peak_detector_filtering(tr_input, Np)\n",
    "# te_input = peak_detector_filtering(te_input, Np)\n",
    "\n",
    "# low pass filtering\n",
    "# tr_input = lowpass_filtering(tr_input, N)\n",
    "# te_input = lowpass_filtering(te_input, N)\n",
    "\n",
    "# downsampling\n",
    "# tr_input = downsampling_filtering(tr_input, Nd)\n",
    "# te_input = downsampling_filtering(te_input, Nd)\n",
    "\n",
    "\n",
    "# dc block\n",
    "# tr_input = dc_blocker_filtering(tr_input, alpha)\n",
    "# te_input = dc_blocker_filtering(te_input, alpha)\n",
    "\n",
    "# fft data generation\n",
    "# tr_input = fft_input_generation(tr_input, size, with_phase=True)\n",
    "# te_input = fft_input_generation(te_input, size, with_phase=True)\n",
    "\n",
    "# spectrogram data generation\n",
    "tr_input = spectrogram_input_generation(tr_input,freq=100,npers=5)\n",
    "te_input = spectrogram_input_generation(te_input,freq=100,npers=5)\n"
   ]
  },
  {
   "cell_type": "markdown",
   "metadata": {},
   "source": [
    "### Standardize"
   ]
  },
  {
   "cell_type": "code",
   "execution_count": 9,
   "metadata": {
    "collapsed": true
   },
   "outputs": [],
   "source": [
    "num_channel = tr_input.shape[1]\n",
    "signal_len = tr_input.shape[2]\n",
    "\n",
    "tr_input = torch.nn.functional.normalize(tr_input, p=2, dim=0) \n",
    "te_input = torch.nn.functional.normalize(te_input, p=2, dim=0) \n",
    "\n",
    "# tr_input, tr_target = Variable(tr_input.view(-1,num_channel*signal_len)), Variable(tr_target)\n",
    "# te_input, te_target = Variable(te_input.view(-1,num_channel*signal_len)), Variable(te_target)\n",
    "\n",
    "tr_input = Variable(tr_input.view(-1,num_channel*signal_len))\n",
    "te_input = Variable(te_input.view(-1,num_channel*signal_len))"
   ]
  },
  {
   "cell_type": "code",
   "execution_count": 14,
   "metadata": {
    "collapsed": true
   },
   "outputs": [],
   "source": [
    "# from sklearn.decomposition import PCA\n",
    "# pca = PCA(n_components=30)\n",
    "# pca.fit_transform(X=tr_input)"
   ]
  },
  {
   "cell_type": "markdown",
   "metadata": {},
   "source": [
    "### training"
   ]
  },
  {
   "cell_type": "code",
   "execution_count": 33,
   "metadata": {
    "collapsed": true
   },
   "outputs": [],
   "source": []
  },
  {
   "cell_type": "code",
   "execution_count": 10,
   "metadata": {
    "collapsed": true
   },
   "outputs": [],
   "source": [
    "class Net(nn.Module):\n",
    "    def __init__(self, num_channel, signal_len):\n",
    "        super(Net, self).__init__()\n",
    "#         self.fc1 = nn.Linear(num_channel * signal_len, num_channel * signal_len)        \n",
    "#         self.fc2 = nn.Linear(num_channel * signal_len, signal_len)\n",
    "\n",
    "        self.fc1 = nn.Linear(num_channel * signal_len, signal_len)\n",
    "        self.fc2 = nn.Linear(signal_len, signal_len)\n",
    "        self.fc4 = nn.Linear(signal_len, signal_len)\n",
    "        self.fc5 = nn.Linear(signal_len, signal_len)\n",
    "        self.fc3 = nn.Linear(signal_len, 2)\n",
    "        \n",
    "    def forward(self, x, mode=False):\n",
    "        x = F.relu(self.fc1(x))\n",
    "        x = F.dropout(x, p=0.5)\n",
    "        x = F.relu(self.fc2(x))\n",
    "        x = F.dropout(x, p=0.5)\n",
    "        x = F.relu(self.fc4(x))\n",
    "        x = F.dropout(x, p=0.5)\n",
    "        x = F.relu(self.fc5(x))\n",
    "        x = F.dropout(x, p=0.5)\n",
    "        \n",
    "        x = self.fc3(x)\n",
    "        return x"
   ]
  },
  {
   "cell_type": "code",
   "execution_count": 26,
   "metadata": {},
   "outputs": [
    {
     "data": {
      "text/plain": [
       "<module 'dlc_bci' from '/home/cheng-chun-epfl/Dropbox/EPFL/course/MA2/deep learning/min-project/cheng-chun/dlc_bci.py'>"
      ]
     },
     "execution_count": 26,
     "metadata": {},
     "output_type": "execute_result"
    }
   ],
   "source": [
    "import importlib\n",
    "importlib.reload(bci)"
   ]
  },
  {
   "cell_type": "code",
   "execution_count": 12,
   "metadata": {
    "scrolled": true
   },
   "outputs": [
    {
     "name": "stdout",
     "output_type": "stream",
     "text": [
      "epoch 0 tr loss 80.05 te loss 25.06\n",
      "epoch 1 tr loss 79.38 te loss 25.02\n",
      "epoch 2 tr loss 79.30 te loss 25.02\n",
      "epoch 3 tr loss 79.29 te loss 25.03\n",
      "epoch 4 tr loss 79.29 te loss 25.03\n",
      "epoch 5 tr loss 79.29 te loss 25.03\n",
      "epoch 6 tr loss 79.29 te loss 25.03\n",
      "epoch 7 tr loss 79.29 te loss 25.03\n",
      "epoch 8 tr loss 79.29 te loss 25.03\n",
      "epoch 9 tr loss 79.28 te loss 25.03\n",
      "epoch 10 tr loss 79.28 te loss 25.03\n",
      "epoch 11 tr loss 79.28 te loss 25.03\n",
      "epoch 12 tr loss 79.28 te loss 25.03\n",
      "epoch 13 tr loss 79.28 te loss 25.03\n",
      "epoch 14 tr loss 79.28 te loss 25.03\n",
      "epoch 15 tr loss 79.28 te loss 25.03\n",
      "epoch 16 tr loss 79.28 te loss 25.03\n",
      "epoch 17 tr loss 79.28 te loss 25.03\n",
      "epoch 18 tr loss 79.27 te loss 25.03\n",
      "epoch 19 tr loss 79.27 te loss 25.03\n",
      "epoch 20 tr loss 79.27 te loss 25.03\n",
      "epoch 21 tr loss 79.27 te loss 25.03\n",
      "epoch 22 tr loss 79.27 te loss 25.03\n",
      "epoch 23 tr loss 79.27 te loss 25.03\n",
      "epoch 24 tr loss 79.26 te loss 25.03\n",
      "epoch 25 tr loss 79.26 te loss 25.03\n",
      "epoch 26 tr loss 79.26 te loss 25.03\n",
      "epoch 27 tr loss 79.26 te loss 25.03\n",
      "epoch 28 tr loss 79.26 te loss 25.03\n",
      "epoch 29 tr loss 79.25 te loss 25.03\n",
      "epoch 30 tr loss 79.25 te loss 25.03\n",
      "epoch 31 tr loss 79.25 te loss 25.03\n",
      "epoch 32 tr loss 79.25 te loss 25.03\n",
      "epoch 33 tr loss 79.24 te loss 25.03\n",
      "epoch 34 tr loss 79.24 te loss 25.03\n",
      "epoch 35 tr loss 79.24 te loss 25.03\n",
      "epoch 36 tr loss 79.24 te loss 25.03\n",
      "epoch 37 tr loss 79.23 te loss 25.03\n",
      "epoch 38 tr loss 79.23 te loss 25.03\n",
      "epoch 39 tr loss 79.23 te loss 25.03\n",
      "epoch 40 tr loss 79.22 te loss 25.03\n",
      "epoch 41 tr loss 79.22 te loss 25.03\n",
      "epoch 42 tr loss 79.22 te loss 25.03\n",
      "epoch 43 tr loss 79.21 te loss 25.03\n",
      "epoch 44 tr loss 79.21 te loss 25.03\n",
      "epoch 45 tr loss 79.20 te loss 25.03\n",
      "epoch 46 tr loss 79.20 te loss 25.03\n",
      "epoch 47 tr loss 79.19 te loss 25.03\n",
      "epoch 48 tr loss 79.19 te loss 25.03\n",
      "epoch 49 tr loss 79.18 te loss 25.03\n",
      "epoch 50 tr loss 79.18 te loss 25.03\n",
      "epoch 51 tr loss 79.17 te loss 25.04\n",
      "epoch 52 tr loss 79.16 te loss 25.04\n",
      "epoch 53 tr loss 79.16 te loss 25.04\n",
      "epoch 54 tr loss 79.15 te loss 25.04\n",
      "epoch 55 tr loss 79.14 te loss 25.04\n",
      "epoch 56 tr loss 79.13 te loss 25.04\n",
      "epoch 57 tr loss 79.12 te loss 25.04\n",
      "epoch 58 tr loss 79.11 te loss 25.04\n",
      "epoch 59 tr loss 79.10 te loss 25.04\n",
      "epoch 60 tr loss 79.09 te loss 25.04\n",
      "epoch 61 tr loss 79.08 te loss 25.04\n",
      "epoch 62 tr loss 79.06 te loss 25.04\n",
      "epoch 63 tr loss 79.04 te loss 25.04\n",
      "epoch 64 tr loss 79.02 te loss 25.04\n",
      "epoch 65 tr loss 79.00 te loss 25.04\n",
      "epoch 66 tr loss 78.98 te loss 25.05\n",
      "epoch 67 tr loss 78.95 te loss 25.05\n",
      "epoch 68 tr loss 78.92 te loss 25.05\n",
      "epoch 69 tr loss 78.88 te loss 25.05\n",
      "epoch 70 tr loss 78.85 te loss 25.05\n",
      "epoch 71 tr loss 78.80 te loss 25.05\n",
      "epoch 72 tr loss 78.75 te loss 25.05\n",
      "epoch 73 tr loss 78.69 te loss 25.05\n",
      "epoch 74 tr loss 78.62 te loss 25.05\n",
      "epoch 75 tr loss 78.54 te loss 25.06\n",
      "epoch 76 tr loss 78.45 te loss 25.06\n",
      "epoch 77 tr loss 78.34 te loss 25.07\n",
      "epoch 78 tr loss 78.20 te loss 25.07\n",
      "epoch 79 tr loss 78.04 te loss 25.08\n",
      "epoch 80 tr loss 77.81 te loss 25.09\n",
      "epoch 81 tr loss 77.56 te loss 25.11\n",
      "epoch 82 tr loss 77.25 te loss 25.13\n",
      "epoch 83 tr loss 76.85 te loss 25.17\n",
      "epoch 84 tr loss 76.30 te loss 25.24\n",
      "epoch 85 tr loss 75.43 te loss 25.42\n",
      "epoch 86 tr loss 74.45 te loss 25.71\n",
      "epoch 87 tr loss 73.24 te loss 26.23\n",
      "epoch 88 tr loss 71.69 te loss 27.06\n",
      "epoch 89 tr loss 69.78 te loss 28.40\n",
      "epoch 90 tr loss 67.54 te loss 30.34\n",
      "epoch 91 tr loss 65.08 te loss 32.94\n",
      "epoch 92 tr loss 62.58 te loss 35.71\n",
      "epoch 93 tr loss 60.30 te loss 38.51\n",
      "epoch 94 tr loss 58.12 te loss 41.05\n",
      "epoch 95 tr loss 56.06 te loss 43.15\n",
      "epoch 96 tr loss 54.08 te loss 44.78\n",
      "epoch 97 tr loss 52.27 te loss 45.92\n",
      "epoch 98 tr loss 50.56 te loss 46.63\n",
      "epoch 99 tr loss 48.83 te loss 47.08\n",
      "tr error 40.19% 127/316\n",
      "te error 47.00% 47/100\n"
     ]
    }
   ],
   "source": [
    "# construct and train model\n",
    "model = Net(num_channel, signal_len)\n",
    "tr_loss, te_loss = bci.train_model(model, tr_input, tr_target, 4, te_input, te_target, 4, 100)\n",
    "torch.save(model.state_dict(), os.getcwd() + \"v1.pth\")\n",
    "\n",
    "# compute train and test errors\n",
    "nb_tr_errors = bci.compute_nb_errors(model, tr_input, tr_target, 4)\n",
    "nb_te_errors = bci.compute_nb_errors(model, te_input, te_target, 4)\n",
    "\n",
    "print('tr error {:0.2f}% {:d}/{:d}'.format((100 * nb_tr_errors) / tr_input.size(0), nb_tr_errors, tr_input.size(0)))\n",
    "print('te error {:0.2f}% {:d}/{:d}'.format((100 * nb_te_errors) / te_input.size(0), nb_te_errors, te_input.size(0)))"
   ]
  },
  {
   "cell_type": "code",
   "execution_count": 13,
   "metadata": {
    "scrolled": false
   },
   "outputs": [
    {
     "data": {
      "image/png": "[encoded data removed]",
      "text/plain": [
       "<matplotlib.figure.Figure at 0x7fa5e25cd3c8>"
      ]
     },
     "metadata": {},
     "output_type": "display_data"
    }
   ],
   "source": [
    "import matplotlib as mpl\n",
    "mpl.rcParams['figure.dpi']= 150\n",
    "\n",
    "plt.figure()\n",
    "plt.plot(tr_loss, label='training loss')\n",
    "plt.plot(te_loss, label='validation loss')\n",
    "plt.legend(loc='upper left')\n",
    "plt.show()"
   ]
  },
  {
   "cell_type": "markdown",
   "metadata": {},
   "source": [
    "### record"
   ]
  },
  {
   "cell_type": "code",
   "execution_count": 18,
   "metadata": {
    "collapsed": true
   },
   "outputs": [],
   "source": [
    "# samples = tr_input[0,:,:].numpy()\n",
    "# for sample in samples:\n",
    "# #     sample = sample[0,:]\n",
    "# #     sample = samples[0,0,:]\n",
    "#     f, (ax1, ax2) = plt.subplots(1, 2, figsize=(20,6))\n",
    "#     ax1.plot(sample)\n",
    "#     ax2.plot(abs(np.fft.fft(sample)))\n",
    "#     plt.show()\n",
    "\n",
    "#     N = 10\n",
    "#     sample_filtered = np.convolve(sample, np.ones((N,))/N, mode='valid')\n",
    "\n",
    "#     f, (ax1, ax2) = plt.subplots(1, 2, figsize=(20,6))\n",
    "#     ax1.plot(sample_filtered)\n",
    "#     ax2.plot(abs(np.fft.fft(sample_filtered)))\n",
    "#     plt.show()"
   ]
  },
  {
   "cell_type": "code",
   "execution_count": 19,
   "metadata": {
    "collapsed": true
   },
   "outputs": [],
   "source": [
    "# # size of moving average filter\n",
    "# N = 10 \n",
    "# # downsampling\n",
    "# Nd = 5\n",
    "# sample = lowpass_filtering(tr_input[0,0,:].numpy(), N)[::Nd]\n",
    "\n",
    "# tr_input_filtered = torch.zeros([tr_input.shape[0],tr_input.shape[1],sample.shape[0]])\n",
    "# te_input_filtered = torch.zeros([te_input.shape[0],te_input.shape[1],sample.shape[0]])\n",
    "\n",
    "# for idx1, data in enumerate(tr_input):\n",
    "#     for idx2, channel in enumerate(data):\n",
    "#         tr_input_filtered[idx1, idx2, :] = torch.from_numpy(lowpass_filtering(channel.numpy(), 10)[::Nd])\n",
    "\n",
    "# for idx1, data in enumerate(te_input):\n",
    "#     for idx2, channel in enumerate(data):\n",
    "#         te_input_filtered[idx1, idx2, :] = torch.from_numpy(lowpass_filtering(channel.numpy(), 10)[::Nd])\n",
    "# tr_input = tr_input_filtered\n",
    "# te_input = te_input_filtered"
   ]
  },
  {
   "cell_type": "code",
   "execution_count": 20,
   "metadata": {
    "collapsed": true
   },
   "outputs": [],
   "source": [
    "# sample = dc_blocker(tr_input[0,0,:].numpy())\n",
    "\n",
    "# tr_input_filtered = torch.zeros([tr_input.shape[0],tr_input.shape[1],sample.shape[0]])\n",
    "# te_input_filtered = torch.zeros([te_input.shape[0],te_input.shape[1],sample.shape[0]])\n",
    "\n",
    "# for idx1, data in enumerate(tr_input):\n",
    "#     for idx2, channel in enumerate(data):\n",
    "#         tr_input_filtered[idx1, idx2, :] = torch.from_numpy(dc_blocker(channel.numpy()))\n",
    "\n",
    "# for idx1, data in enumerate(te_input):\n",
    "#     for idx2, channel in enumerate(data):\n",
    "#         te_input_filtered[idx1, idx2, :] = torch.from_numpy(dc_blocker(channel.numpy()))\n",
    "\n",
    "\n",
    "# tr_input = tr_input_filtered\n",
    "# te_input = te_input_filtered\n",
    "\n",
    "# sample = tr_input[1,6,:].numpy()\n",
    "# f, (ax1, ax2) = plt.subplots(1, 2, figsize=(20,6))\n",
    "# ax1.plot(sample)\n",
    "# sample_dc = dc_blocker(sample)\n",
    "# ax2.plot(sample_dc)\n",
    "# plt.show()"
   ]
  },
  {
   "cell_type": "code",
   "execution_count": 21,
   "metadata": {
    "collapsed": true
   },
   "outputs": [],
   "source": [
    "# sample = tr_input[:,11,:].numpy()\n",
    "# for channel in sample[0:4]:\n",
    "# #     plt.plot(channel)\n",
    "#     f, (ax1, ax2) = plt.subplots(1, 2, figsize=(20,6))\n",
    "# #     ax1.plot(channel)\n",
    "#     sample_fft = np.fft.fft(channel)\n",
    "# #     ax1.plot(abs(sample_fft))\n",
    "#     ax1.plot(channel)\n",
    "# #     ax2.plot(np.angle(sample_fft))\n",
    "#     ax2.plot(abs(np.fft.fft(channel)))\n",
    "\n",
    "#     plt.show()"
   ]
  },
  {
   "cell_type": "code",
   "execution_count": 22,
   "metadata": {
    "collapsed": true
   },
   "outputs": [],
   "source": [
    "# def fft_data(signal, size = 20):\n",
    "#     sample_fft = np.fft.fft(signal)\n",
    "#     sample_angle = np.angle(sample_fft)\n",
    "    \n",
    "#     return np.append(abs(sample_fft)[0:size],sample_angle[0:size])\n",
    "\n",
    "\n",
    "# sample = fft_data(tr_input[0,0,:].numpy())\n",
    "\n",
    "# tr_input_filtered = torch.zeros([tr_input.shape[0],tr_input.shape[1],sample.shape[0]])\n",
    "# te_input_filtered = torch.zeros([te_input.shape[0],te_input.shape[1],sample.shape[0]])\n",
    "\n",
    "# for idx1, data in enumerate(tr_input):\n",
    "#     for idx2, channel in enumerate(data):\n",
    "#         tr_input_filtered[idx1, idx2, :] = torch.from_numpy(fft_data(channel.numpy()))\n",
    "\n",
    "# for idx1, data in enumerate(te_input):\n",
    "#     for idx2, channel in enumerate(data):\n",
    "#         te_input_filtered[idx1, idx2, :] = torch.from_numpy(fft_data(channel.numpy()))\n",
    "\n",
    "\n",
    "# tr_input = tr_input_filtered\n",
    "# te_input = te_input_filtered\n"
   ]
  }
 ],
 "metadata": {
  "kernelspec": {
   "display_name": "Python 3",
   "language": "python",
   "name": "python3"
  },
  "language_info": {
   "codemirror_mode": {
    "name": "ipython",
    "version": 3
   },
   "file_extension": ".py",
   "mimetype": "text/x-python",
   "name": "python",
   "nbconvert_exporter": "python",
   "pygments_lexer": "ipython3",
   "version": "3.6.3"
  }
 },
 "nbformat": 4,
 "nbformat_minor": 2
}
