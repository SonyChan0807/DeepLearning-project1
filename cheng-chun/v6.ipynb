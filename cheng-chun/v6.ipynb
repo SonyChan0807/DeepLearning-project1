{
 "cells": [
  {
   "cell_type": "markdown",
   "metadata": {},
   "source": [
    "### Libraries"
   ]
  },
  {
   "cell_type": "code",
   "execution_count": 160,
   "metadata": {
    "collapsed": true
   },
   "outputs": [],
   "source": [
    "import os\n",
    "import numpy as np\n",
    "import matplotlib.pyplot as plt\n",
    "\n",
    "import dlc_bci as bci\n",
    "from dlc_practical_prologue import *\n",
    "\n",
    "import torch\n",
    "from torch import nn\n",
    "from torch.nn import functional as F\n",
    "from torch.autograd import Variable"
   ]
  },
  {
   "cell_type": "markdown",
   "metadata": {},
   "source": [
    "### Plot functions"
   ]
  },
  {
   "cell_type": "code",
   "execution_count": 161,
   "metadata": {
    "collapsed": true
   },
   "outputs": [],
   "source": [
    "def plot_channel(tr_input, tr_target, ch = 2, num = 4):\n",
    "\n",
    "    for i in range(num):\n",
    "        f, (ax1, ax2) = plt.subplots(1, 2, figsize=(12,4))\n",
    "\n",
    "        sample = tr_input[2*i,ch,:].numpy()  \n",
    "    #     sample = tr_input[0,2*i,:].numpy()\n",
    "        ax1.plot(sample)\n",
    "        ax1.set_title(tr_target[2*i][0])\n",
    "\n",
    "        sample = tr_input[2*i+1,ch,:].numpy()\n",
    "    #     sample = tr_input[0,2*i+1,:].numpy()\n",
    "        ax2.plot(sample)\n",
    "        ax2.set_title(tr_target[2*i+1][0])\n",
    "        plt.show()"
   ]
  },
  {
   "cell_type": "code",
   "execution_count": 162,
   "metadata": {
    "collapsed": true
   },
   "outputs": [],
   "source": [
    "def plot_fft(tr_input, ch = 2, num = 4):\n",
    "    \n",
    "    sample = tr_input[:num,ch,:].numpy()\n",
    "\n",
    "    for channel in sample:\n",
    "        f, (ax1, ax2) = plt.subplots(1, 2, figsize=(20,6))\n",
    "        sample_fft = np.fft.fft(channel)\n",
    "        ax1.plot(channel)\n",
    "        ax2.plot(abs(np.fft.fft(channel)))\n",
    "\n",
    "        plt.show()"
   ]
  },
  {
   "cell_type": "markdown",
   "metadata": {},
   "source": [
    "### Load dataset"
   ]
  },
  {
   "cell_type": "code",
   "execution_count": 167,
   "metadata": {},
   "outputs": [
    {
     "ename": "AttributeError",
     "evalue": "'Variable' object has no attribute 'new'",
     "output_type": "error",
     "traceback": [
      "\u001b[0;31m---------------------------------------------------------------------------\u001b[0m",
      "\u001b[0;31mAttributeError\u001b[0m                            Traceback (most recent call last)",
      "\u001b[0;32m<ipython-input-167-096388d055a9>\u001b[0m in \u001b[0;36m<module>\u001b[0;34m()\u001b[0m\n\u001b[1;32m      4\u001b[0m \u001b[0;31m# te_input, te_target = bci.load(\"bci\", train=False, one_khz=False)\u001b[0m\u001b[0;34m\u001b[0m\u001b[0;34m\u001b[0m\u001b[0m\n\u001b[1;32m      5\u001b[0m \u001b[0;34m\u001b[0m\u001b[0m\n\u001b[0;32m----> 6\u001b[0;31m \u001b[0mtr_target\u001b[0m \u001b[0;34m=\u001b[0m \u001b[0mconvert_to_one_hot_labels\u001b[0m\u001b[0;34m(\u001b[0m\u001b[0mtr_input\u001b[0m\u001b[0;34m,\u001b[0m \u001b[0mtr_target\u001b[0m\u001b[0;34m)\u001b[0m\u001b[0;34m\u001b[0m\u001b[0m\n\u001b[0m\u001b[1;32m      7\u001b[0m \u001b[0mte_target\u001b[0m \u001b[0;34m=\u001b[0m \u001b[0mconvert_to_one_hot_labels\u001b[0m\u001b[0;34m(\u001b[0m\u001b[0mte_input\u001b[0m\u001b[0;34m,\u001b[0m \u001b[0mte_target\u001b[0m\u001b[0;34m)\u001b[0m\u001b[0;34m\u001b[0m\u001b[0m\n",
      "\u001b[0;32m/home/cheng-chun-epfl/Dropbox/EPFL/course/MA2/deep learning/min-project/cheng-chun/dlc_practical_prologue.py\u001b[0m in \u001b[0;36mconvert_to_one_hot_labels\u001b[0;34m(input, target)\u001b[0m\n\u001b[1;32m     49\u001b[0m \u001b[0;34m\u001b[0m\u001b[0m\n\u001b[1;32m     50\u001b[0m \u001b[0;32mdef\u001b[0m \u001b[0mconvert_to_one_hot_labels\u001b[0m\u001b[0;34m(\u001b[0m\u001b[0minput\u001b[0m\u001b[0;34m,\u001b[0m \u001b[0mtarget\u001b[0m\u001b[0;34m)\u001b[0m\u001b[0;34m:\u001b[0m\u001b[0;34m\u001b[0m\u001b[0m\n\u001b[0;32m---> 51\u001b[0;31m     \u001b[0mtmp\u001b[0m \u001b[0;34m=\u001b[0m \u001b[0minput\u001b[0m\u001b[0;34m.\u001b[0m\u001b[0mnew\u001b[0m\u001b[0;34m(\u001b[0m\u001b[0mtarget\u001b[0m\u001b[0;34m.\u001b[0m\u001b[0msize\u001b[0m\u001b[0;34m(\u001b[0m\u001b[0;36m0\u001b[0m\u001b[0;34m)\u001b[0m\u001b[0;34m,\u001b[0m \u001b[0mtarget\u001b[0m\u001b[0;34m.\u001b[0m\u001b[0mmax\u001b[0m\u001b[0;34m(\u001b[0m\u001b[0;34m)\u001b[0m \u001b[0;34m+\u001b[0m \u001b[0;36m1\u001b[0m\u001b[0;34m)\u001b[0m\u001b[0;34m.\u001b[0m\u001b[0mfill_\u001b[0m\u001b[0;34m(\u001b[0m\u001b[0;34m-\u001b[0m\u001b[0;36m1\u001b[0m\u001b[0;34m)\u001b[0m\u001b[0;34m\u001b[0m\u001b[0m\n\u001b[0m\u001b[1;32m     52\u001b[0m     \u001b[0;32mfor\u001b[0m \u001b[0mk\u001b[0m \u001b[0;32min\u001b[0m \u001b[0mrange\u001b[0m\u001b[0;34m(\u001b[0m\u001b[0;36m0\u001b[0m\u001b[0;34m,\u001b[0m \u001b[0mtarget\u001b[0m\u001b[0;34m.\u001b[0m\u001b[0msize\u001b[0m\u001b[0;34m(\u001b[0m\u001b[0;36m0\u001b[0m\u001b[0;34m)\u001b[0m\u001b[0;34m)\u001b[0m\u001b[0;34m:\u001b[0m\u001b[0;34m\u001b[0m\u001b[0m\n\u001b[1;32m     53\u001b[0m         \u001b[0mtmp\u001b[0m\u001b[0;34m[\u001b[0m\u001b[0mk\u001b[0m\u001b[0;34m,\u001b[0m \u001b[0mtarget\u001b[0m\u001b[0;34m[\u001b[0m\u001b[0mk\u001b[0m\u001b[0;34m]\u001b[0m\u001b[0;34m]\u001b[0m \u001b[0;34m=\u001b[0m \u001b[0;36m1\u001b[0m\u001b[0;34m\u001b[0m\u001b[0m\n",
      "\u001b[0;32m/home/cheng-chun-epfl/anaconda3/lib/python3.6/site-packages/torch/autograd/variable.py\u001b[0m in \u001b[0;36m__getattr__\u001b[0;34m(self, name)\u001b[0m\n\u001b[1;32m     65\u001b[0m         \u001b[0;32mif\u001b[0m \u001b[0mname\u001b[0m \u001b[0;32min\u001b[0m \u001b[0mself\u001b[0m\u001b[0;34m.\u001b[0m\u001b[0m_fallthrough_methods\u001b[0m\u001b[0;34m:\u001b[0m\u001b[0;34m\u001b[0m\u001b[0m\n\u001b[1;32m     66\u001b[0m             \u001b[0;32mreturn\u001b[0m \u001b[0mgetattr\u001b[0m\u001b[0;34m(\u001b[0m\u001b[0mself\u001b[0m\u001b[0;34m.\u001b[0m\u001b[0mdata\u001b[0m\u001b[0;34m,\u001b[0m \u001b[0mname\u001b[0m\u001b[0;34m)\u001b[0m\u001b[0;34m\u001b[0m\u001b[0m\n\u001b[0;32m---> 67\u001b[0;31m         \u001b[0;32mreturn\u001b[0m \u001b[0mobject\u001b[0m\u001b[0;34m.\u001b[0m\u001b[0m__getattribute__\u001b[0m\u001b[0;34m(\u001b[0m\u001b[0mself\u001b[0m\u001b[0;34m,\u001b[0m \u001b[0mname\u001b[0m\u001b[0;34m)\u001b[0m\u001b[0;34m\u001b[0m\u001b[0m\n\u001b[0m\u001b[1;32m     68\u001b[0m \u001b[0;34m\u001b[0m\u001b[0m\n\u001b[1;32m     69\u001b[0m     \u001b[0;32mdef\u001b[0m \u001b[0m__getitem__\u001b[0m\u001b[0;34m(\u001b[0m\u001b[0mself\u001b[0m\u001b[0;34m,\u001b[0m \u001b[0mkey\u001b[0m\u001b[0;34m)\u001b[0m\u001b[0;34m:\u001b[0m\u001b[0;34m\u001b[0m\u001b[0m\n",
      "\u001b[0;31mAttributeError\u001b[0m: 'Variable' object has no attribute 'new'"
     ]
    }
   ],
   "source": [
    "tr_input_org, tr_target = bci.load(\"bci\", train=True, one_khz=True)\n",
    "# tr_input, tr_target = bci.load(\"bci\", train=True, one_khz=False)\n",
    "te_input_org, te_target = bci.load(\"bci\", train=False, one_khz=True)\n",
    "# te_input, te_target = bci.load(\"bci\", train=False, one_khz=False)\n",
    "\n",
    "tr_target = convert_to_one_hot_labels(tr_input, tr_target)\n",
    "te_target = convert_to_one_hot_labels(te_input, te_target)"
   ]
  },
  {
   "cell_type": "markdown",
   "metadata": {},
   "source": [
    "### Preprocessing - moving average / downsampling / DC blocker / DFT"
   ]
  },
  {
   "cell_type": "code",
   "execution_count": null,
   "metadata": {
    "collapsed": true
   },
   "outputs": [],
   "source": [
    "def conv_lowpass(signal, N):    \n",
    "    return np.convolve(signal, np.ones((N,))/N, mode='valid')\n",
    "\n",
    "def lowpass_filtering(signal, N):\n",
    "    sample = conv_lowpass(signal[0,0,:].numpy(), N)\n",
    "    \n",
    "    signal_filtered = torch.zeros([signal.shape[0], signal.shape[1], sample.shape[0]])\n",
    "\n",
    "    for idx1, data in enumerate(signal):\n",
    "        for idx2, channel in enumerate(data):\n",
    "            signal_filtered[idx1, idx2, :] = torch.from_numpy(conv_lowpass(channel.numpy(), N))\n",
    "    \n",
    "    return signal_filtered    \n",
    "\n",
    "def downsampling_filtering(signal, Nd):\n",
    "    sample = signal[0,0,:].numpy()[::Nd]\n",
    "    \n",
    "    signal_filtered = torch.zeros([signal.shape[0], signal.shape[1], sample.shape[0]])\n",
    "\n",
    "    for idx1, data in enumerate(signal):\n",
    "        for idx2, channel in enumerate(data):\n",
    "#             signal_filtered[idx1, idx2, :] = torch.from_numpy(channel.numpy()[::Nd])\n",
    "            signal_filtered[idx1, idx2, :] = channel[::Nd]\n",
    "    \n",
    "    return signal_filtered\n",
    "\n",
    "def dc_blocker(signal, alpha = 0.9):\n",
    "    y = np.zeros(signal.shape[0]+1)\n",
    "    y[0] = signal[0]\n",
    "    \n",
    "    for i in range(1, len(signal)):\n",
    "        y[i] = alpha * y[i-1] + signal[i] - signal[i-1]\n",
    "        i+=1\n",
    "    \n",
    "    return y\n",
    "\n",
    "def dc_blocker_filtering(signal, alpha_ = 0.9):\n",
    "    sample = dc_blocker(signal[0,0,:].numpy(), alpha=alpha_)\n",
    "    signal_filtered = torch.zeros([signal.shape[0], signal.shape[1], sample.shape[0]])\n",
    "    \n",
    "    for idx1, data in enumerate(signal):\n",
    "        for idx2, channel in enumerate(data):\n",
    "            signal_filtered[idx1, idx2, :] = torch.from_numpy(dc_blocker(channel.numpy(), alpha=alpha_))\n",
    "    \n",
    "    return signal_filtered\n",
    "\n",
    "\n",
    "def fft_data(signal, size):\n",
    "    sample_fft = np.fft.fft(signal)\n",
    "    sample_angle = np.angle(sample_fft)\n",
    "    \n",
    "    return np.append(abs(sample_fft)[0:size],sample_angle[0:size])\n",
    "\n",
    "def fft_input_generation(signal, size):\n",
    "    sample = fft_data(signal[0,0,:].numpy(), size)\n",
    "    signal_filtered = torch.zeros([signal.shape[0], signal.shape[1], sample.shape[0]])\n",
    "    \n",
    "#     print(signal.shape)\n",
    "#     print(signal_filtered.shape)\n",
    "    for idx1, data in enumerate(signal):\n",
    "        for idx2, channel in enumerate(data):\n",
    "#             print(signal_filtered.shape)\n",
    "            signal_filtered[idx1, idx2, :] = torch.from_numpy(fft_data(channel.numpy(), size))\n",
    "    return signal_filtered"
   ]
  },
  {
   "cell_type": "code",
   "execution_count": 152,
   "metadata": {
    "scrolled": false
   },
   "outputs": [],
   "source": [
    "# moving average\n",
    "\n",
    "N = 10\n",
    "\n",
    "# downsampling\n",
    "\n",
    "Nd = 10\n",
    "\n",
    "# DC blocker\n",
    "\n",
    "alpha = 0.9\n",
    "\n",
    "# FFT extraction\n",
    "\n",
    "size = 20\n",
    "\n",
    "tr_input = lowpass_filtering(tr_input_org, N)\n",
    "tr_input = downsampling_filtering(tr_input, Nd)\n",
    "tr_input = dc_blocker_filtering(tr_input, alpha)\n",
    "tr_input = fft_input_generation(tr_input, int(size/2))\n",
    "\n",
    "te_input = lowpass_filtering(te_input_org, N)\n",
    "te_input = downsampling_filtering(te_input, Nd)\n",
    "te_input = dc_blocker_filtering(te_input, alpha)\n",
    "te_input = fft_input_generation(te_input, int(size/2))\n",
    "\n",
    "# tr_input_fft = fft_input_generation(tr_input, 25)\n",
    "\n",
    "# tr_input_low = lowpass_filtering(tr_input, N)\n",
    "# \n",
    "# plot_channel(tr_input, tr_target)\n",
    "# plot_channel(tr_input_low, tr_target)\n"
   ]
  },
  {
   "cell_type": "markdown",
   "metadata": {},
   "source": [
    "### Standardize"
   ]
  },
  {
   "cell_type": "code",
   "execution_count": 153,
   "metadata": {
    "collapsed": true
   },
   "outputs": [],
   "source": [
    "tr_target = Variable(tr_target)\n",
    "te_target = Variable(te_target)"
   ]
  },
  {
   "cell_type": "code",
   "execution_count": 154,
   "metadata": {},
   "outputs": [],
   "source": [
    "num_channel = tr_input.shape[1]\n",
    "signal_len = tr_input.shape[2]\n",
    "\n",
    "tr_input = torch.nn.functional.normalize(tr_input, p=2, dim=0) \n",
    "te_input = torch.nn.functional.normalize(te_input, p=2, dim=0) \n",
    "\n",
    "# tr_input, tr_target = Variable(tr_input.view(-1,num_channel*signal_len)), Variable(tr_target)\n",
    "# te_input, te_target = Variable(te_input.view(-1,num_channel*signal_len)), Variable(te_target)\n",
    "\n",
    "tr_input = Variable(tr_input.view(-1,num_channel*signal_len))\n",
    "te_input = Variable(te_input.view(-1,num_channel*signal_len))"
   ]
  },
  {
   "cell_type": "code",
   "execution_count": 70,
   "metadata": {
    "collapsed": true
   },
   "outputs": [],
   "source": [
    "# from sklearn.decomposition import PCA\n",
    "# pca = PCA(n_components=30)\n",
    "# pca.fit_transform(X=tr_input)"
   ]
  },
  {
   "cell_type": "markdown",
   "metadata": {},
   "source": [
    "### training"
   ]
  },
  {
   "cell_type": "code",
   "execution_count": 155,
   "metadata": {
    "collapsed": true
   },
   "outputs": [],
   "source": [
    "class Net(nn.Module):\n",
    "    def __init__(self, num_channel, signal_len):\n",
    "        super(Net, self).__init__()\n",
    "#         self.fc1 = nn.Linear(size[1] * size[2], size[2])\n",
    "#         self.fc2 = nn.Linear(size[2], size[2])\n",
    "#         self.fc3 = nn.Linear(size[2], 2)\n",
    "        self.fc1 = nn.Linear(num_channel * signal_len, signal_len)\n",
    "        self.fc2 = nn.Linear(signal_len, signal_len)\n",
    "        self.fc3 = nn.Linear(signal_len, 2)\n",
    "#         self.fc1 = nn.Linear(28 * 500, 500)\n",
    "#         self.fc2 = nn.Linear(500, 500)\n",
    "#         self.fc3 = nn.Linear(500, 2)\n",
    "        \n",
    "    def forward(self, x, mode=False):\n",
    "        x = F.relu(self.fc1(x))\n",
    "        x = F.dropout(x, p=0.5)\n",
    "        x = F.relu(self.fc2(x))\n",
    "        x = F.dropout(x, p=0.5)\n",
    "        x = self.fc3(x)\n",
    "        return x"
   ]
  },
  {
   "cell_type": "code",
   "execution_count": 156,
   "metadata": {
    "scrolled": true
   },
   "outputs": [
    {
     "ename": "RuntimeError",
     "evalue": "Expected object of type Variable[torch.FloatTensor] but found type Variable[torch.LongTensor] for argument #1 'target'",
     "output_type": "error",
     "traceback": [
      "\u001b[0;31m---------------------------------------------------------------------------\u001b[0m",
      "\u001b[0;31mRuntimeError\u001b[0m                              Traceback (most recent call last)",
      "\u001b[0;32m<ipython-input-156-ba6d14e28689>\u001b[0m in \u001b[0;36m<module>\u001b[0;34m()\u001b[0m\n\u001b[1;32m      1\u001b[0m \u001b[0;31m# construct and train model\u001b[0m\u001b[0;34m\u001b[0m\u001b[0;34m\u001b[0m\u001b[0m\n\u001b[1;32m      2\u001b[0m \u001b[0mmodel\u001b[0m \u001b[0;34m=\u001b[0m \u001b[0mNet\u001b[0m\u001b[0;34m(\u001b[0m\u001b[0mnum_channel\u001b[0m\u001b[0;34m,\u001b[0m \u001b[0msignal_len\u001b[0m\u001b[0;34m)\u001b[0m\u001b[0;34m\u001b[0m\u001b[0m\n\u001b[0;32m----> 3\u001b[0;31m \u001b[0mtr_loss\u001b[0m\u001b[0;34m,\u001b[0m \u001b[0mte_loss\u001b[0m \u001b[0;34m=\u001b[0m \u001b[0mbci\u001b[0m\u001b[0;34m.\u001b[0m\u001b[0mtrain_model\u001b[0m\u001b[0;34m(\u001b[0m\u001b[0mmodel\u001b[0m\u001b[0;34m,\u001b[0m \u001b[0mtr_input\u001b[0m\u001b[0;34m,\u001b[0m \u001b[0mtr_target\u001b[0m\u001b[0;34m,\u001b[0m \u001b[0;36m4\u001b[0m\u001b[0;34m,\u001b[0m \u001b[0mte_input\u001b[0m\u001b[0;34m,\u001b[0m \u001b[0mte_target\u001b[0m\u001b[0;34m,\u001b[0m \u001b[0;36m4\u001b[0m\u001b[0;34m,\u001b[0m \u001b[0;36m200\u001b[0m\u001b[0;34m)\u001b[0m\u001b[0;34m\u001b[0m\u001b[0m\n\u001b[0m\u001b[1;32m      4\u001b[0m \u001b[0mtorch\u001b[0m\u001b[0;34m.\u001b[0m\u001b[0msave\u001b[0m\u001b[0;34m(\u001b[0m\u001b[0mmodel\u001b[0m\u001b[0;34m.\u001b[0m\u001b[0mstate_dict\u001b[0m\u001b[0;34m(\u001b[0m\u001b[0;34m)\u001b[0m\u001b[0;34m,\u001b[0m \u001b[0mos\u001b[0m\u001b[0;34m.\u001b[0m\u001b[0mgetcwd\u001b[0m\u001b[0;34m(\u001b[0m\u001b[0;34m)\u001b[0m \u001b[0;34m+\u001b[0m \u001b[0;34m\"v1.pth\"\u001b[0m\u001b[0;34m)\u001b[0m\u001b[0;34m\u001b[0m\u001b[0m\n\u001b[1;32m      5\u001b[0m \u001b[0;34m\u001b[0m\u001b[0m\n",
      "\u001b[0;32m/home/cheng-chun-epfl/Dropbox/EPFL/course/MA2/deep learning/min-project/cheng-chun/dlc_bci.py\u001b[0m in \u001b[0;36mtrain_model\u001b[0;34m(model, train_input, train_target, train_mini_batch_size, test_input, test_target, test_mini_batch_size, epoch)\u001b[0m\n\u001b[1;32m    102\u001b[0m             \u001b[0;31m# feedforward and compute loss\u001b[0m\u001b[0;34m\u001b[0m\u001b[0;34m\u001b[0m\u001b[0m\n\u001b[1;32m    103\u001b[0m             \u001b[0moutput\u001b[0m \u001b[0;34m=\u001b[0m \u001b[0mmodel\u001b[0m\u001b[0;34m(\u001b[0m\u001b[0mtrain_input\u001b[0m\u001b[0;34m.\u001b[0m\u001b[0mnarrow\u001b[0m\u001b[0;34m(\u001b[0m\u001b[0;36m0\u001b[0m\u001b[0;34m,\u001b[0m \u001b[0mb\u001b[0m\u001b[0;34m,\u001b[0m \u001b[0mtrain_mini_batch_size\u001b[0m\u001b[0;34m)\u001b[0m\u001b[0;34m,\u001b[0m \u001b[0;32mTrue\u001b[0m\u001b[0;34m)\u001b[0m\u001b[0;34m\u001b[0m\u001b[0m\n\u001b[0;32m--> 104\u001b[0;31m             \u001b[0mloss\u001b[0m \u001b[0;34m=\u001b[0m \u001b[0mcriterion\u001b[0m\u001b[0;34m(\u001b[0m\u001b[0moutput\u001b[0m\u001b[0;34m,\u001b[0m \u001b[0mtrain_target\u001b[0m\u001b[0;34m.\u001b[0m\u001b[0mnarrow\u001b[0m\u001b[0;34m(\u001b[0m\u001b[0;36m0\u001b[0m\u001b[0;34m,\u001b[0m \u001b[0mb\u001b[0m\u001b[0;34m,\u001b[0m \u001b[0mtrain_mini_batch_size\u001b[0m\u001b[0;34m)\u001b[0m\u001b[0;34m)\u001b[0m\u001b[0;34m\u001b[0m\u001b[0m\n\u001b[0m\u001b[1;32m    105\u001b[0m             \u001b[0mtr_loss\u001b[0m \u001b[0;34m=\u001b[0m \u001b[0mtr_loss\u001b[0m \u001b[0;34m+\u001b[0m \u001b[0mloss\u001b[0m\u001b[0;34m.\u001b[0m\u001b[0mdata\u001b[0m\u001b[0;34m[\u001b[0m\u001b[0;36m0\u001b[0m\u001b[0;34m]\u001b[0m\u001b[0;34m\u001b[0m\u001b[0m\n\u001b[1;32m    106\u001b[0m \u001b[0;34m\u001b[0m\u001b[0m\n",
      "\u001b[0;32m/home/cheng-chun-epfl/anaconda3/lib/python3.6/site-packages/torch/nn/modules/module.py\u001b[0m in \u001b[0;36m__call__\u001b[0;34m(self, *input, **kwargs)\u001b[0m\n\u001b[1;32m    355\u001b[0m             \u001b[0mresult\u001b[0m \u001b[0;34m=\u001b[0m \u001b[0mself\u001b[0m\u001b[0;34m.\u001b[0m\u001b[0m_slow_forward\u001b[0m\u001b[0;34m(\u001b[0m\u001b[0;34m*\u001b[0m\u001b[0minput\u001b[0m\u001b[0;34m,\u001b[0m \u001b[0;34m**\u001b[0m\u001b[0mkwargs\u001b[0m\u001b[0;34m)\u001b[0m\u001b[0;34m\u001b[0m\u001b[0m\n\u001b[1;32m    356\u001b[0m         \u001b[0;32melse\u001b[0m\u001b[0;34m:\u001b[0m\u001b[0;34m\u001b[0m\u001b[0m\n\u001b[0;32m--> 357\u001b[0;31m             \u001b[0mresult\u001b[0m \u001b[0;34m=\u001b[0m \u001b[0mself\u001b[0m\u001b[0;34m.\u001b[0m\u001b[0mforward\u001b[0m\u001b[0;34m(\u001b[0m\u001b[0;34m*\u001b[0m\u001b[0minput\u001b[0m\u001b[0;34m,\u001b[0m \u001b[0;34m**\u001b[0m\u001b[0mkwargs\u001b[0m\u001b[0;34m)\u001b[0m\u001b[0;34m\u001b[0m\u001b[0m\n\u001b[0m\u001b[1;32m    358\u001b[0m         \u001b[0;32mfor\u001b[0m \u001b[0mhook\u001b[0m \u001b[0;32min\u001b[0m \u001b[0mself\u001b[0m\u001b[0;34m.\u001b[0m\u001b[0m_forward_hooks\u001b[0m\u001b[0;34m.\u001b[0m\u001b[0mvalues\u001b[0m\u001b[0;34m(\u001b[0m\u001b[0;34m)\u001b[0m\u001b[0;34m:\u001b[0m\u001b[0;34m\u001b[0m\u001b[0m\n\u001b[1;32m    359\u001b[0m             \u001b[0mhook_result\u001b[0m \u001b[0;34m=\u001b[0m \u001b[0mhook\u001b[0m\u001b[0;34m(\u001b[0m\u001b[0mself\u001b[0m\u001b[0;34m,\u001b[0m \u001b[0minput\u001b[0m\u001b[0;34m,\u001b[0m \u001b[0mresult\u001b[0m\u001b[0;34m)\u001b[0m\u001b[0;34m\u001b[0m\u001b[0m\n",
      "\u001b[0;32m/home/cheng-chun-epfl/anaconda3/lib/python3.6/site-packages/torch/nn/modules/loss.py\u001b[0m in \u001b[0;36mforward\u001b[0;34m(self, input, target)\u001b[0m\n\u001b[1;32m    377\u001b[0m     \u001b[0;32mdef\u001b[0m \u001b[0mforward\u001b[0m\u001b[0;34m(\u001b[0m\u001b[0mself\u001b[0m\u001b[0;34m,\u001b[0m \u001b[0minput\u001b[0m\u001b[0;34m,\u001b[0m \u001b[0mtarget\u001b[0m\u001b[0;34m)\u001b[0m\u001b[0;34m:\u001b[0m\u001b[0;34m\u001b[0m\u001b[0m\n\u001b[1;32m    378\u001b[0m         \u001b[0m_assert_no_grad\u001b[0m\u001b[0;34m(\u001b[0m\u001b[0mtarget\u001b[0m\u001b[0;34m)\u001b[0m\u001b[0;34m\u001b[0m\u001b[0m\n\u001b[0;32m--> 379\u001b[0;31m         \u001b[0;32mreturn\u001b[0m \u001b[0mF\u001b[0m\u001b[0;34m.\u001b[0m\u001b[0mmse_loss\u001b[0m\u001b[0;34m(\u001b[0m\u001b[0minput\u001b[0m\u001b[0;34m,\u001b[0m \u001b[0mtarget\u001b[0m\u001b[0;34m,\u001b[0m \u001b[0msize_average\u001b[0m\u001b[0;34m=\u001b[0m\u001b[0mself\u001b[0m\u001b[0;34m.\u001b[0m\u001b[0msize_average\u001b[0m\u001b[0;34m,\u001b[0m \u001b[0mreduce\u001b[0m\u001b[0;34m=\u001b[0m\u001b[0mself\u001b[0m\u001b[0;34m.\u001b[0m\u001b[0mreduce\u001b[0m\u001b[0;34m)\u001b[0m\u001b[0;34m\u001b[0m\u001b[0m\n\u001b[0m\u001b[1;32m    380\u001b[0m \u001b[0;34m\u001b[0m\u001b[0m\n\u001b[1;32m    381\u001b[0m \u001b[0;34m\u001b[0m\u001b[0m\n",
      "\u001b[0;32m/home/cheng-chun-epfl/anaconda3/lib/python3.6/site-packages/torch/nn/functional.py\u001b[0m in \u001b[0;36mmse_loss\u001b[0;34m(input, target, size_average, reduce)\u001b[0m\n\u001b[1;32m   1280\u001b[0m     \"\"\"\n\u001b[1;32m   1281\u001b[0m     return _pointwise_loss(lambda a, b: (a - b) ** 2, torch._C._nn.mse_loss,\n\u001b[0;32m-> 1282\u001b[0;31m                            input, target, size_average, reduce)\n\u001b[0m\u001b[1;32m   1283\u001b[0m \u001b[0;34m\u001b[0m\u001b[0m\n\u001b[1;32m   1284\u001b[0m \u001b[0;34m\u001b[0m\u001b[0m\n",
      "\u001b[0;32m/home/cheng-chun-epfl/anaconda3/lib/python3.6/site-packages/torch/nn/functional.py\u001b[0m in \u001b[0;36m_pointwise_loss\u001b[0;34m(lambd, lambd_optimized, input, target, size_average, reduce)\u001b[0m\n\u001b[1;32m   1246\u001b[0m         \u001b[0;32mreturn\u001b[0m \u001b[0mtorch\u001b[0m\u001b[0;34m.\u001b[0m\u001b[0mmean\u001b[0m\u001b[0;34m(\u001b[0m\u001b[0md\u001b[0m\u001b[0;34m)\u001b[0m \u001b[0;32mif\u001b[0m \u001b[0msize_average\u001b[0m \u001b[0;32melse\u001b[0m \u001b[0mtorch\u001b[0m\u001b[0;34m.\u001b[0m\u001b[0msum\u001b[0m\u001b[0;34m(\u001b[0m\u001b[0md\u001b[0m\u001b[0;34m)\u001b[0m\u001b[0;34m\u001b[0m\u001b[0m\n\u001b[1;32m   1247\u001b[0m     \u001b[0;32melse\u001b[0m\u001b[0;34m:\u001b[0m\u001b[0;34m\u001b[0m\u001b[0m\n\u001b[0;32m-> 1248\u001b[0;31m         \u001b[0;32mreturn\u001b[0m \u001b[0mlambd_optimized\u001b[0m\u001b[0;34m(\u001b[0m\u001b[0minput\u001b[0m\u001b[0;34m,\u001b[0m \u001b[0mtarget\u001b[0m\u001b[0;34m,\u001b[0m \u001b[0msize_average\u001b[0m\u001b[0;34m,\u001b[0m \u001b[0mreduce\u001b[0m\u001b[0;34m)\u001b[0m\u001b[0;34m\u001b[0m\u001b[0m\n\u001b[0m\u001b[1;32m   1249\u001b[0m \u001b[0;34m\u001b[0m\u001b[0m\n\u001b[1;32m   1250\u001b[0m \u001b[0;34m\u001b[0m\u001b[0m\n",
      "\u001b[0;31mRuntimeError\u001b[0m: Expected object of type Variable[torch.FloatTensor] but found type Variable[torch.LongTensor] for argument #1 'target'"
     ]
    }
   ],
   "source": [
    "# construct and train model\n",
    "model = Net(num_channel, signal_len)\n",
    "tr_loss, te_loss = bci.train_model(model, tr_input, tr_target, 4, te_input, te_target, 4, 200)\n",
    "torch.save(model.state_dict(), os.getcwd() + \"v1.pth\")\n",
    "\n",
    "# compute train and test errors\n",
    "nb_tr_errors = bci.compute_nb_errors(model, tr_input, tr_target, 4)\n",
    "nb_te_errors = bci.compute_nb_errors(model, te_input, te_target, 4)\n",
    "\n",
    "print('tr error {:0.2f}% {:d}/{:d}'.format((100 * nb_tr_errors) / tr_input.size(0), nb_tr_errors, tr_input.size(0)))\n",
    "print('te error {:0.2f}% {:d}/{:d}'.format((100 * nb_te_errors) / te_input.size(0), nb_te_errors, te_input.size(0)))"
   ]
  },
  {
   "cell_type": "code",
   "execution_count": 195,
   "metadata": {
    "scrolled": false
   },
   "outputs": [
    {
     "data": {
      "image/png": "[encoded data removed]",
      "text/plain": [
       "<matplotlib.figure.Figure at 0x7f7f21e91630>"
      ]
     },
     "metadata": {},
     "output_type": "display_data"
    }
   ],
   "source": [
    "import matplotlib as mpl\n",
    "mpl.rcParams['figure.dpi']= 150\n",
    "\n",
    "plt.figure()\n",
    "plt.plot(tr_loss, label='training loss')\n",
    "plt.plot(te_loss, label='validation loss')\n",
    "plt.legend(loc='upper left')\n",
    "plt.show()"
   ]
  },
  {
   "cell_type": "markdown",
   "metadata": {},
   "source": [
    "### record"
   ]
  },
  {
   "cell_type": "code",
   "execution_count": null,
   "metadata": {
    "collapsed": true
   },
   "outputs": [],
   "source": [
    "# samples = tr_input[0,:,:].numpy()\n",
    "# for sample in samples:\n",
    "# #     sample = sample[0,:]\n",
    "# #     sample = samples[0,0,:]\n",
    "#     f, (ax1, ax2) = plt.subplots(1, 2, figsize=(20,6))\n",
    "#     ax1.plot(sample)\n",
    "#     ax2.plot(abs(np.fft.fft(sample)))\n",
    "#     plt.show()\n",
    "\n",
    "#     N = 10\n",
    "#     sample_filtered = np.convolve(sample, np.ones((N,))/N, mode='valid')\n",
    "\n",
    "#     f, (ax1, ax2) = plt.subplots(1, 2, figsize=(20,6))\n",
    "#     ax1.plot(sample_filtered)\n",
    "#     ax2.plot(abs(np.fft.fft(sample_filtered)))\n",
    "#     plt.show()"
   ]
  },
  {
   "cell_type": "code",
   "execution_count": null,
   "metadata": {
    "collapsed": true
   },
   "outputs": [],
   "source": [
    "# # size of moving average filter\n",
    "# N = 10 \n",
    "# # downsampling\n",
    "# Nd = 5\n",
    "# sample = lowpass_filtering(tr_input[0,0,:].numpy(), N)[::Nd]\n",
    "\n",
    "# tr_input_filtered = torch.zeros([tr_input.shape[0],tr_input.shape[1],sample.shape[0]])\n",
    "# te_input_filtered = torch.zeros([te_input.shape[0],te_input.shape[1],sample.shape[0]])\n",
    "\n",
    "# for idx1, data in enumerate(tr_input):\n",
    "#     for idx2, channel in enumerate(data):\n",
    "#         tr_input_filtered[idx1, idx2, :] = torch.from_numpy(lowpass_filtering(channel.numpy(), 10)[::Nd])\n",
    "\n",
    "# for idx1, data in enumerate(te_input):\n",
    "#     for idx2, channel in enumerate(data):\n",
    "#         te_input_filtered[idx1, idx2, :] = torch.from_numpy(lowpass_filtering(channel.numpy(), 10)[::Nd])\n",
    "# tr_input = tr_input_filtered\n",
    "# te_input = te_input_filtered"
   ]
  },
  {
   "cell_type": "code",
   "execution_count": 80,
   "metadata": {
    "collapsed": true
   },
   "outputs": [],
   "source": [
    "# sample = dc_blocker(tr_input[0,0,:].numpy())\n",
    "\n",
    "# tr_input_filtered = torch.zeros([tr_input.shape[0],tr_input.shape[1],sample.shape[0]])\n",
    "# te_input_filtered = torch.zeros([te_input.shape[0],te_input.shape[1],sample.shape[0]])\n",
    "\n",
    "# for idx1, data in enumerate(tr_input):\n",
    "#     for idx2, channel in enumerate(data):\n",
    "#         tr_input_filtered[idx1, idx2, :] = torch.from_numpy(dc_blocker(channel.numpy()))\n",
    "\n",
    "# for idx1, data in enumerate(te_input):\n",
    "#     for idx2, channel in enumerate(data):\n",
    "#         te_input_filtered[idx1, idx2, :] = torch.from_numpy(dc_blocker(channel.numpy()))\n",
    "\n",
    "\n",
    "# tr_input = tr_input_filtered\n",
    "# te_input = te_input_filtered\n",
    "\n",
    "# sample = tr_input[1,6,:].numpy()\n",
    "# f, (ax1, ax2) = plt.subplots(1, 2, figsize=(20,6))\n",
    "# ax1.plot(sample)\n",
    "# sample_dc = dc_blocker(sample)\n",
    "# ax2.plot(sample_dc)\n",
    "# plt.show()"
   ]
  },
  {
   "cell_type": "code",
   "execution_count": 83,
   "metadata": {
    "collapsed": true
   },
   "outputs": [],
   "source": [
    "# sample = tr_input[:,11,:].numpy()\n",
    "# for channel in sample[0:4]:\n",
    "# #     plt.plot(channel)\n",
    "#     f, (ax1, ax2) = plt.subplots(1, 2, figsize=(20,6))\n",
    "# #     ax1.plot(channel)\n",
    "#     sample_fft = np.fft.fft(channel)\n",
    "# #     ax1.plot(abs(sample_fft))\n",
    "#     ax1.plot(channel)\n",
    "# #     ax2.plot(np.angle(sample_fft))\n",
    "#     ax2.plot(abs(np.fft.fft(channel)))\n",
    "\n",
    "#     plt.show()"
   ]
  },
  {
   "cell_type": "code",
   "execution_count": 97,
   "metadata": {
    "collapsed": true
   },
   "outputs": [],
   "source": [
    "# def fft_data(signal, size = 20):\n",
    "#     sample_fft = np.fft.fft(signal)\n",
    "#     sample_angle = np.angle(sample_fft)\n",
    "    \n",
    "#     return np.append(abs(sample_fft)[0:size],sample_angle[0:size])\n",
    "\n",
    "\n",
    "# sample = fft_data(tr_input[0,0,:].numpy())\n",
    "\n",
    "# tr_input_filtered = torch.zeros([tr_input.shape[0],tr_input.shape[1],sample.shape[0]])\n",
    "# te_input_filtered = torch.zeros([te_input.shape[0],te_input.shape[1],sample.shape[0]])\n",
    "\n",
    "# for idx1, data in enumerate(tr_input):\n",
    "#     for idx2, channel in enumerate(data):\n",
    "#         tr_input_filtered[idx1, idx2, :] = torch.from_numpy(fft_data(channel.numpy()))\n",
    "\n",
    "# for idx1, data in enumerate(te_input):\n",
    "#     for idx2, channel in enumerate(data):\n",
    "#         te_input_filtered[idx1, idx2, :] = torch.from_numpy(fft_data(channel.numpy()))\n",
    "\n",
    "\n",
    "# tr_input = tr_input_filtered\n",
    "# te_input = te_input_filtered\n"
   ]
  }
 ],
 "metadata": {
  "kernelspec": {
   "display_name": "Python 3",
   "language": "python",
   "name": "python3"
  },
  "language_info": {
   "codemirror_mode": {
    "name": "ipython",
    "version": 3
   },
   "file_extension": ".py",
   "mimetype": "text/x-python",
   "name": "python",
   "nbconvert_exporter": "python",
   "pygments_lexer": "ipython3",
   "version": "3.6.3"
  }
 },
 "nbformat": 4,
 "nbformat_minor": 2
}
