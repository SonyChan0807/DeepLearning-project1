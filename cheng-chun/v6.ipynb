{
 "cells": [
  {
   "cell_type": "markdown",
   "metadata": {},
   "source": [
    "### Libraries"
   ]
  },
  {
   "cell_type": "code",
   "execution_count": 1,
   "metadata": {
    "collapsed": true
   },
   "outputs": [],
   "source": [
    "import os\n",
    "import random\n",
    "import numpy as np\n",
    "import matplotlib.pyplot as plt\n",
    "\n",
    "import dlc_bci as bci\n",
    "from dlc_practical_prologue import *\n",
    "\n",
    "import torch\n",
    "from torch import nn\n",
    "from torch.nn import functional as F\n",
    "from torch.autograd import Variable\n",
    "from scipy.signal import hilbert, chirp\n",
    "from scipy import signal\n",
    "\n",
    "import importlib\n",
    "# customized libraries\n",
    "import plot_lib as plib\n",
    "import preprocess as prep\n"
   ]
  },
  {
   "cell_type": "code",
   "execution_count": 2,
   "metadata": {},
   "outputs": [
    {
     "data": {
      "text/plain": [
       "<module 'preprocess' from '/home/cheng-chun-epfl/Dropbox/EPFL/course/MA2/deep learning/min-project/cheng-chun/preprocess.py'>"
      ]
     },
     "execution_count": 2,
     "metadata": {},
     "output_type": "execute_result"
    }
   ],
   "source": [
    "importlib.reload(bci)\n",
    "importlib.reload(plib)\n",
    "importlib.reload(prep)"
   ]
  },
  {
   "cell_type": "markdown",
   "metadata": {},
   "source": [
    "### Load dataset"
   ]
  },
  {
   "cell_type": "code",
   "execution_count": 2,
   "metadata": {
    "collapsed": true
   },
   "outputs": [],
   "source": [
    "# tr_input_org, tr_target = bci.load(\"bci\", train=True, one_khz=True)\n",
    "tr_input_org, tr_target_org = bci.load(\"bci\", train=True, one_khz=False)\n",
    "# te_input_org, te_target = bci.load(\"bci\", train=False, one_khz=True)\n",
    "te_input_org, te_target = bci.load(\"bci\", train=False, one_khz=False)\n",
    "\n",
    "\n",
    "tr_target_onehot = convert_to_one_hot_labels(tr_input_org, tr_target_org)\n",
    "te_target_onehot = convert_to_one_hot_labels(te_input_org, te_target)\n",
    "\n",
    "tr_target_onehot = Variable(tr_target_onehot)\n",
    "te_target_onehot = Variable(te_target_onehot)\n",
    "\n",
    "tr_target_org = Variable(tr_target_org)\n",
    "te_target = Variable(te_target)"
   ]
  },
  {
   "cell_type": "markdown",
   "metadata": {},
   "source": [
    "### Preprocessing - moving average / downsampling / DC blocker / DFT"
   ]
  },
  {
   "cell_type": "code",
   "execution_count": 48,
   "metadata": {
    "collapsed": true,
    "scrolled": false
   },
   "outputs": [],
   "source": [
    "importlib.reload(prep)\n",
    "# moving average\n",
    "N = 5\n",
    "# downsampling\n",
    "Nd = 4\n",
    "# DC blocker\n",
    "alpha = 0.9\n",
    "# find peak\n",
    "Np = 5\n",
    "# FFT extraction\n",
    "size = 20\n",
    "\n",
    "\n",
    "tr_input = tr_input_org.clone()\n",
    "te_input = te_input_org.clone()\n",
    "tr_target = tr_target_org.clone()\n",
    "\n",
    "# inc_size = 700\n",
    "# tr_input, tr_target = prep.augment(tr_input, tr_target, inc_size)\n",
    "\n",
    "# reserve_list = [0, 1, 4, 5, 7, 11, 15, 16, 19, 23, 26, 27]\n",
    "\n",
    "# tr_input = prep.channel_used(tr_input, reserve_list)\n",
    "# te_input = prep.channel_used(te_input, reserve_list)\n",
    "\n",
    "# tr_input = channel_used(tr_input, reserve_list)\n",
    "\n",
    "# tr_input = tr_input[:,:15,:]\n",
    "# te_input = te_input[:,:15,:]\n",
    "\n",
    "# peak detector\n",
    "# tr_input = prep.peak_detector_filtering(tr_input, Np)\n",
    "# te_input = prep.peak_detector_filtering(te_input, Np)\n",
    "\n",
    "# low pass filtering\n",
    "# tr_input = prep.lowpass_filtering(tr_input, N)\n",
    "# te_input = prep.lowpass_filtering(te_input, N)\n",
    "\n",
    "# downsampling\n",
    "# tr_input = prep.downsampling_filtering(tr_input, Nd)\n",
    "# te_input = prep.downsampling_filtering(te_input, Nd)\n",
    "\n",
    "\n",
    "# dc block\n",
    "# tr_input = dc_blocker_filtering(tr_input, alpha)\n",
    "# te_input = dc_blocker_filtering(te_input, alpha)\n",
    "\n",
    "# fft data generation\n",
    "# tr_input = prep.fft_input_generation(tr_input, size, with_phase=False)\n",
    "# te_input = prep.fft_input_generation(te_input, size, with_phase=False)\n",
    "# tr_input = prep.fft_input_generation(tr_input, size, with_phase=True)\n",
    "# te_input = prep.fft_input_generation(te_input, size, with_phase=True)\n",
    "\n",
    "# spectrogram data generation\n",
    "# tr_input = prep.spectrogram_input_generation(tr_input,freq=100,npers=5)\n",
    "# te_input = prep.spectrogram_input_generation(te_input,freq=100,npers=5)\n"
   ]
  },
  {
   "cell_type": "code",
   "execution_count": 10,
   "metadata": {},
   "outputs": [
    {
     "data": {
      "text/plain": [
       "torch.Size([316, 28, 50])"
      ]
     },
     "execution_count": 10,
     "metadata": {},
     "output_type": "execute_result"
    }
   ],
   "source": [
    "tr_input.shape"
   ]
  },
  {
   "cell_type": "markdown",
   "metadata": {},
   "source": [
    "### Standardize"
   ]
  },
  {
   "cell_type": "code",
   "execution_count": 49,
   "metadata": {
    "collapsed": true
   },
   "outputs": [],
   "source": [
    "num_channel = tr_input.shape[1]\n",
    "signal_len = tr_input.shape[2]\n",
    "\n",
    "tr_input = torch.nn.functional.normalize(tr_input, p=2, dim=0) \n",
    "te_input = torch.nn.functional.normalize(te_input, p=2, dim=0) \n",
    "\n",
    "# Convert to 4D tensor [dataset size, number of channels, rows, cols]\n",
    "# tr_input = tr_input[:, np.newaxis, :, :]\n",
    "# te_input = te_input[:, np.newaxis, :, :]\n",
    "\n",
    "tr_input = Variable(tr_input)\n",
    "te_input = Variable(te_input)\n",
    "\n",
    "# tr_input = Variable(tr_input.view(-1,num_channel*signal_len))\n",
    "# te_input = Variable(te_input.view(-1,num_channel*signal_len))"
   ]
  },
  {
   "cell_type": "markdown",
   "metadata": {},
   "source": [
    "### training"
   ]
  },
  {
   "cell_type": "code",
   "execution_count": 54,
   "metadata": {},
   "outputs": [],
   "source": [
    "class Net(nn.Module):\n",
    "    def __init__(self, num_channel, signal_len):\n",
    "        super(Net, self).__init__()\n",
    "        self.fc1 = nn.Linear(num_channel * signal_len, signal_len)\n",
    "        self.fc2 = nn.Linear(signal_len, signal_len)\n",
    "        self.fc3 = nn.Linear(signal_len, 2)\n",
    "        \n",
    "    def forward(self, x, mode=False):\n",
    "        x = F.relu(self.fc1(x))\n",
    "        x = F.relu(self.fc2(x))        \n",
    "        x = self.fc3(x)\n",
    "        return x\n",
    "    \n",
    "class ConvNet(nn.Module):\n",
    "    def __init__(self):\n",
    "        super(ConvNet, self).__init__()\n",
    "        self.conv1 = nn.Conv1d(in_channels=28, out_channels=28, kernel_size=3)\n",
    "        \n",
    "        ## option2 - 77% max - conv 28x28x3 + maxpool 2, linear 672x336, 336x2\n",
    "        ## option3 - 83% max - conv 28x28x3 + maxpool 2, linear 672x336 + relu, 336x2\n",
    "        \n",
    "        self.linear1 = nn.Linear(672, 336)\n",
    "        self.output = nn.Linear(336, 2)\n",
    "        \n",
    "    def forward(self, x, mode=False):\n",
    "        \n",
    "        # convolve\n",
    "        x = F.max_pool1d(F.relu(self.conv1(x)), 2)\n",
    "        x = x.view(-1, 672)\n",
    "        x = F.relu(self.linear1(x))\n",
    "        x = self.output(x)\n",
    "\n",
    "        return x"
   ]
  },
  {
   "cell_type": "code",
   "execution_count": 55,
   "metadata": {},
   "outputs": [
    {
     "name": "stdout",
     "output_type": "stream",
     "text": [
      "epoch 0 tr loss 54.86 te loss 54.74\n",
      "tr acc = 0.50\n",
      "te acc = 0.51\n",
      "epoch 20 tr loss 54.76 te loss 54.94\n",
      "tr acc = 0.52\n",
      "te acc = 0.45\n",
      "epoch 40 tr loss 54.64 te loss 55.09\n",
      "tr acc = 0.58\n",
      "te acc = 0.45\n",
      "epoch 60 tr loss 54.43 te loss 55.25\n",
      "tr acc = 0.58\n",
      "te acc = 0.49\n",
      "epoch 80 tr loss 53.93 te loss 55.27\n",
      "tr acc = 0.58\n",
      "te acc = 0.53\n",
      "epoch 100 tr loss 52.84 te loss 55.69\n",
      "tr acc = 0.60\n",
      "te acc = 0.48\n",
      "epoch 120 tr loss 51.33 te loss 57.81\n",
      "tr acc = 0.60\n",
      "te acc = 0.52\n",
      "epoch 140 tr loss 49.45 te loss 59.34\n",
      "tr acc = 0.61\n",
      "te acc = 0.55\n",
      "epoch 160 tr loss 46.24 te loss 58.92\n",
      "tr acc = 0.64\n",
      "te acc = 0.56\n",
      "epoch 180 tr loss 40.55 te loss 57.86\n",
      "tr acc = 0.63\n",
      "te acc = 0.61\n",
      "epoch 200 tr loss 33.49 te loss 57.75\n",
      "tr acc = 0.70\n",
      "te acc = 0.68\n",
      "epoch 220 tr loss 27.41 te loss 59.81\n",
      "tr acc = 0.75\n",
      "te acc = 0.70\n",
      "epoch 240 tr loss 22.69 te loss 64.85\n",
      "tr acc = 0.80\n",
      "te acc = 0.71\n",
      "epoch 260 tr loss 19.21 te loss 70.66\n",
      "tr acc = 0.83\n",
      "te acc = 0.74\n",
      "epoch 280 tr loss 16.25 te loss 77.38\n",
      "tr acc = 0.85\n",
      "te acc = 0.76\n",
      "epoch 300 tr loss 13.65 te loss 85.97\n",
      "tr acc = 0.87\n",
      "te acc = 0.77\n",
      "epoch 320 tr loss 11.18 te loss 94.59\n",
      "tr acc = 0.89\n",
      "te acc = 0.78\n",
      "epoch 340 tr loss 8.96 te loss 104.12\n",
      "tr acc = 0.90\n",
      "te acc = 0.78\n",
      "epoch 360 tr loss 7.00 te loss 114.16\n",
      "tr acc = 0.90\n",
      "te acc = 0.78\n",
      "epoch 380 tr loss 5.36 te loss 121.74\n",
      "tr acc = 0.93\n",
      "te acc = 0.78\n",
      "epoch 400 tr loss 4.10 te loss 126.71\n",
      "tr acc = 0.96\n",
      "te acc = 0.78\n",
      "epoch 420 tr loss 3.16 te loss 130.97\n",
      "tr acc = 0.97\n",
      "te acc = 0.78\n",
      "epoch 440 tr loss 2.51 te loss 133.87\n",
      "tr acc = 0.97\n",
      "te acc = 0.78\n",
      "epoch 460 tr loss 2.04 te loss 135.82\n",
      "tr acc = 0.99\n",
      "te acc = 0.79\n",
      "epoch 480 tr loss 1.68 te loss 137.81\n",
      "tr acc = 0.99\n",
      "te acc = 0.80\n",
      "epoch 500 tr loss 1.42 te loss 139.57\n",
      "tr acc = 0.99\n",
      "te acc = 0.80\n",
      "epoch 520 tr loss 1.20 te loss 141.63\n",
      "tr acc = 0.99\n",
      "te acc = 0.80\n",
      "epoch 540 tr loss 1.04 te loss 143.62\n",
      "tr acc = 1.00\n",
      "te acc = 0.81\n",
      "epoch 560 tr loss 0.91 te loss 145.73\n",
      "tr acc = 1.00\n",
      "te acc = 0.81\n",
      "epoch 580 tr loss 0.81 te loss 147.36\n",
      "tr acc = 1.00\n",
      "te acc = 0.80\n",
      "epoch 600 tr loss 0.72 te loss 148.69\n",
      "tr acc = 1.00\n",
      "te acc = 0.81\n",
      "epoch 620 tr loss 0.64 te loss 150.22\n",
      "tr acc = 1.00\n",
      "te acc = 0.81\n",
      "epoch 640 tr loss 0.58 te loss 152.09\n",
      "tr acc = 1.00\n",
      "te acc = 0.82\n",
      "epoch 660 tr loss 0.53 te loss 154.22\n",
      "tr acc = 1.00\n",
      "te acc = 0.82\n",
      "epoch 680 tr loss 0.48 te loss 156.55\n",
      "tr acc = 1.00\n",
      "te acc = 0.82\n",
      "epoch 700 tr loss 0.44 te loss 158.48\n",
      "tr acc = 1.00\n",
      "te acc = 0.82\n",
      "epoch 720 tr loss 0.40 te loss 160.61\n",
      "tr acc = 1.00\n",
      "te acc = 0.83\n",
      "epoch 740 tr loss 0.37 te loss 162.86\n",
      "tr acc = 1.00\n",
      "te acc = 0.83\n",
      "epoch 760 tr loss 0.35 te loss 165.09\n",
      "tr acc = 1.00\n",
      "te acc = 0.83\n",
      "epoch 780 tr loss 0.32 te loss 167.11\n",
      "tr acc = 1.00\n",
      "te acc = 0.82\n",
      "epoch 800 tr loss 0.30 te loss 169.08\n",
      "tr acc = 1.00\n",
      "te acc = 0.82\n",
      "epoch 820 tr loss 0.28 te loss 170.96\n",
      "tr acc = 1.00\n",
      "te acc = 0.82\n",
      "epoch 840 tr loss 0.26 te loss 172.76\n",
      "tr acc = 1.00\n",
      "te acc = 0.82\n",
      "epoch 860 tr loss 0.24 te loss 174.58\n",
      "tr acc = 1.00\n",
      "te acc = 0.82\n",
      "epoch 880 tr loss 0.23 te loss 176.24\n",
      "tr acc = 1.00\n",
      "te acc = 0.82\n",
      "epoch 900 tr loss 0.22 te loss 177.84\n",
      "tr acc = 1.00\n",
      "te acc = 0.82\n",
      "epoch 920 tr loss 0.20 te loss 179.47\n",
      "tr acc = 1.00\n",
      "te acc = 0.82\n",
      "epoch 940 tr loss 0.19 te loss 181.10\n",
      "tr acc = 1.00\n",
      "te acc = 0.80\n",
      "epoch 960 tr loss 0.18 te loss 182.63\n",
      "tr acc = 1.00\n",
      "te acc = 0.79\n",
      "epoch 980 tr loss 0.17 te loss 184.20\n",
      "tr acc = 1.00\n",
      "te acc = 0.79\n"
     ]
    }
   ],
   "source": [
    "importlib.reload(bci)\n",
    "\n",
    "# construct and train model\n",
    "model = ConvNet()\n",
    "# model = Net(num_channel, signal_len)\n",
    "\n",
    "# tr_loss, te_loss = bci.train_model(model, tr_input, tr_target_onehot, 4, te_input, te_target_onehot, 4, 200)\n",
    "tr_loss, te_loss = bci.train_model(model, tr_input, tr_target, 4, te_input, te_target, 4, 1000)\n"
   ]
  },
  {
   "cell_type": "code",
   "execution_count": null,
   "metadata": {
    "collapsed": true
   },
   "outputs": [],
   "source": [
    "# torch.save(model.state_dict(), os.getcwd() + \"v1.pth\")\n",
    "\n",
    "# compute train and test errors\n",
    "# nb_tr_errors = bci.compute_nb_errors(model, tr_input, tr_target_onehot, 4)\n",
    "# nb_te_errors = bci.compute_nb_errors(model, te_input, te_target_onehot, 4)\n",
    "\n",
    "# num_correct = np.sum((torch.max(F.softmax(model(tr_input), 1), 1)[1] == tr_target).data.numpy())\n",
    "# print('tr acc = {:0.2f}'.format(num_correct/tr_target.shape[0]))\n",
    "# num_correct = np.sum((torch.max(F.softmax(model(te_input), 1), 1)[1] == te_target).data.numpy())\n",
    "# print('te acc = {:0.2f}'.format(num_correct/te_target.shape[0]))\n",
    "\n",
    "# print('tr error {:0.2f}% {:d}/{:d}'.format((100 * nb_tr_errors) / tr_input.size(0), nb_tr_errors, tr_input.size(0)))\n",
    "# print('te error {:0.2f}% {:d}/{:d}'.format((100 * nb_te_errors) / te_input.size(0), nb_te_errors, te_input.size(0)))"
   ]
  },
  {
   "cell_type": "code",
   "execution_count": 168,
   "metadata": {
    "scrolled": false
   },
   "outputs": [
    {
     "data": {
      "image/png": "[encoded data removed]",
      "text/plain": [
       "<matplotlib.figure.Figure at 0x7f37e58c16d8>"
      ]
     },
     "metadata": {},
     "output_type": "display_data"
    }
   ],
   "source": [
    "import matplotlib as mpl\n",
    "mpl.rcParams['figure.dpi']= 150\n",
    "\n",
    "plt.figure()\n",
    "plt.plot(tr_loss, label='training loss')\n",
    "plt.plot(te_loss, label='validation loss')\n",
    "plt.legend(loc='upper left')\n",
    "plt.show()"
   ]
  },
  {
   "cell_type": "markdown",
   "metadata": {},
   "source": [
    "### record"
   ]
  },
  {
   "cell_type": "code",
   "execution_count": 18,
   "metadata": {
    "collapsed": true
   },
   "outputs": [],
   "source": [
    "# samples = tr_input[0,:,:].numpy()\n",
    "# for sample in samples:\n",
    "# #     sample = sample[0,:]\n",
    "# #     sample = samples[0,0,:]\n",
    "#     f, (ax1, ax2) = plt.subplots(1, 2, figsize=(20,6))\n",
    "#     ax1.plot(sample)\n",
    "#     ax2.plot(abs(np.fft.fft(sample)))\n",
    "#     plt.show()\n",
    "\n",
    "#     N = 10\n",
    "#     sample_filtered = np.convolve(sample, np.ones((N,))/N, mode='valid')\n",
    "\n",
    "#     f, (ax1, ax2) = plt.subplots(1, 2, figsize=(20,6))\n",
    "#     ax1.plot(sample_filtered)\n",
    "#     ax2.plot(abs(np.fft.fft(sample_filtered)))\n",
    "#     plt.show()"
   ]
  },
  {
   "cell_type": "code",
   "execution_count": 19,
   "metadata": {
    "collapsed": true
   },
   "outputs": [],
   "source": [
    "# # size of moving average filter\n",
    "# N = 10 \n",
    "# # downsampling\n",
    "# Nd = 5\n",
    "# sample = lowpass_filtering(tr_input[0,0,:].numpy(), N)[::Nd]\n",
    "\n",
    "# tr_input_filtered = torch.zeros([tr_input.shape[0],tr_input.shape[1],sample.shape[0]])\n",
    "# te_input_filtered = torch.zeros([te_input.shape[0],te_input.shape[1],sample.shape[0]])\n",
    "\n",
    "# for idx1, data in enumerate(tr_input):\n",
    "#     for idx2, channel in enumerate(data):\n",
    "#         tr_input_filtered[idx1, idx2, :] = torch.from_numpy(lowpass_filtering(channel.numpy(), 10)[::Nd])\n",
    "\n",
    "# for idx1, data in enumerate(te_input):\n",
    "#     for idx2, channel in enumerate(data):\n",
    "#         te_input_filtered[idx1, idx2, :] = torch.from_numpy(lowpass_filtering(channel.numpy(), 10)[::Nd])\n",
    "# tr_input = tr_input_filtered\n",
    "# te_input = te_input_filtered"
   ]
  },
  {
   "cell_type": "code",
   "execution_count": 20,
   "metadata": {
    "collapsed": true
   },
   "outputs": [],
   "source": [
    "# sample = dc_blocker(tr_input[0,0,:].numpy())\n",
    "\n",
    "# tr_input_filtered = torch.zeros([tr_input.shape[0],tr_input.shape[1],sample.shape[0]])\n",
    "# te_input_filtered = torch.zeros([te_input.shape[0],te_input.shape[1],sample.shape[0]])\n",
    "\n",
    "# for idx1, data in enumerate(tr_input):\n",
    "#     for idx2, channel in enumerate(data):\n",
    "#         tr_input_filtered[idx1, idx2, :] = torch.from_numpy(dc_blocker(channel.numpy()))\n",
    "\n",
    "# for idx1, data in enumerate(te_input):\n",
    "#     for idx2, channel in enumerate(data):\n",
    "#         te_input_filtered[idx1, idx2, :] = torch.from_numpy(dc_blocker(channel.numpy()))\n",
    "\n",
    "\n",
    "# tr_input = tr_input_filtered\n",
    "# te_input = te_input_filtered\n",
    "\n",
    "# sample = tr_input[1,6,:].numpy()\n",
    "# f, (ax1, ax2) = plt.subplots(1, 2, figsize=(20,6))\n",
    "# ax1.plot(sample)\n",
    "# sample_dc = dc_blocker(sample)\n",
    "# ax2.plot(sample_dc)\n",
    "# plt.show()"
   ]
  },
  {
   "cell_type": "code",
   "execution_count": 21,
   "metadata": {
    "collapsed": true
   },
   "outputs": [],
   "source": [
    "# sample = tr_input[:,11,:].numpy()\n",
    "# for channel in sample[0:4]:\n",
    "# #     plt.plot(channel)\n",
    "#     f, (ax1, ax2) = plt.subplots(1, 2, figsize=(20,6))\n",
    "# #     ax1.plot(channel)\n",
    "#     sample_fft = np.fft.fft(channel)\n",
    "# #     ax1.plot(abs(sample_fft))\n",
    "#     ax1.plot(channel)\n",
    "# #     ax2.plot(np.angle(sample_fft))\n",
    "#     ax2.plot(abs(np.fft.fft(channel)))\n",
    "\n",
    "#     plt.show()"
   ]
  },
  {
   "cell_type": "code",
   "execution_count": 22,
   "metadata": {
    "collapsed": true
   },
   "outputs": [],
   "source": [
    "# def fft_data(signal, size = 20):\n",
    "#     sample_fft = np.fft.fft(signal)\n",
    "#     sample_angle = np.angle(sample_fft)\n",
    "    \n",
    "#     return np.append(abs(sample_fft)[0:size],sample_angle[0:size])\n",
    "\n",
    "\n",
    "# sample = fft_data(tr_input[0,0,:].numpy())\n",
    "\n",
    "# tr_input_filtered = torch.zeros([tr_input.shape[0],tr_input.shape[1],sample.shape[0]])\n",
    "# te_input_filtered = torch.zeros([te_input.shape[0],te_input.shape[1],sample.shape[0]])\n",
    "\n",
    "# for idx1, data in enumerate(tr_input):\n",
    "#     for idx2, channel in enumerate(data):\n",
    "#         tr_input_filtered[idx1, idx2, :] = torch.from_numpy(fft_data(channel.numpy()))\n",
    "\n",
    "# for idx1, data in enumerate(te_input):\n",
    "#     for idx2, channel in enumerate(data):\n",
    "#         te_input_filtered[idx1, idx2, :] = torch.from_numpy(fft_data(channel.numpy()))\n",
    "\n",
    "\n",
    "# tr_input = tr_input_filtered\n",
    "# te_input = te_input_filtered\n"
   ]
  },
  {
   "cell_type": "code",
   "execution_count": null,
   "metadata": {
    "collapsed": true
   },
   "outputs": [],
   "source": [
    "# epoch = 400\n",
    "# lr = 1e-2\n",
    "\n",
    "\n",
    "# net = Net(num_channel, signal_len)\n",
    "\n",
    "# loss_func = nn.CrossEntropyLoss()\n",
    "# optimizer = torch.optim.SGD(net.parameters(), lr=lr)\n",
    "\n",
    "# tr_loss_all = []\n",
    "# te_loss_all = []\n",
    "\n",
    "# for e in range(0, epoch):\n",
    "#     tr_loss = 0\n",
    "#     te_loss = 0\n",
    "    \n",
    "#     prediction = net(tr_input)\n",
    "#     loss = loss_func(prediction, tr_target)\n",
    "#     tr_loss = loss.data[0]\n",
    "#     optimizer.zero_grad()\n",
    "#     loss.backward()\n",
    "#     optimizer.step()\n",
    "    \n",
    "#     prediction = net(te_input)\n",
    "#     loss = loss_func(prediction, te_target)\n",
    "#     te_loss = loss.data[0]\n",
    "    \n",
    "#     print('epoch {:d} tr loss {:0.2f} te loss {:0.2f}'.format(e, tr_loss, te_loss))\n",
    "\n",
    "# num_correct = np.sum((torch.max(F.softmax(model(tr_input), 1), 1)[1] == tr_target).data.numpy())\n",
    "# print('tr acc = {:0.2f}'.format(num_correct/tr_target.shape[0]))\n",
    "# num_correct = np.sum((torch.max(F.softmax(model(te_input), 1), 1)[1] == te_target).data.numpy())\n",
    "# print('te acc = {:0.2f}'.format(num_correct/te_target.shape[0]))\n",
    "# # num_correct = float(torch.sum(torch.max(F.softmax(net(tr_input), 1), 1)[1] == tr_target).data)\n",
    "# # print('tr acc = {:0.2f}'.format(num_correct/tr_target.shape[0]))\n",
    "# # num_correct = float(torch.sum(torch.max(F.softmax(net(te_input), 1), 1)[1] == te_target).data)\n",
    "# # print('tr acc = {:0.2f}'.format(num_correct/te_target.shape[0]))"
   ]
  }
 ],
 "metadata": {
  "kernelspec": {
   "display_name": "Python 3",
   "language": "python",
   "name": "python3"
  },
  "language_info": {
   "codemirror_mode": {
    "name": "ipython",
    "version": 3
   },
   "file_extension": ".py",
   "mimetype": "text/x-python",
   "name": "python",
   "nbconvert_exporter": "python",
   "pygments_lexer": "ipython3",
   "version": "3.6.3"
  }
 },
 "nbformat": 4,
 "nbformat_minor": 2
}
