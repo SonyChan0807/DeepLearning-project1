{
 "cells": [
  {
   "cell_type": "markdown",
   "metadata": {},
   "source": [
    "### Libraries"
   ]
  },
  {
   "cell_type": "code",
   "execution_count": 73,
   "metadata": {
    "collapsed": true
   },
   "outputs": [],
   "source": [
    "import os\n",
    "import numpy as np\n",
    "import matplotlib.pyplot as plt\n",
    "\n",
    "import dlc_bci as bci\n",
    "from dlc_practical_prologue import *\n",
    "\n",
    "import torch\n",
    "from torch import nn\n",
    "from torch.nn import functional as F\n",
    "from torch.autograd import Variable"
   ]
  },
  {
   "cell_type": "markdown",
   "metadata": {},
   "source": [
    "### Load dataset"
   ]
  },
  {
   "cell_type": "code",
   "execution_count": 82,
   "metadata": {
    "collapsed": true
   },
   "outputs": [],
   "source": [
    "tr_input, tr_target = bci.load(\"bci\", train=True, one_khz=True)\n",
    "# tr_input, tr_target = bci.load(\"bci\", train=True, one_khz=False)\n",
    "te_input, te_target = bci.load(\"bci\", train=False, one_khz=True)\n",
    "# te_input, te_target = bci.load(\"bci\", train=False, one_khz=False)\n",
    "\n",
    "tr_target = convert_to_one_hot_labels(tr_input, tr_target)\n",
    "te_target = convert_to_one_hot_labels(te_input, te_target)"
   ]
  },
  {
   "cell_type": "code",
   "execution_count": null,
   "metadata": {
    "collapsed": true
   },
   "outputs": [],
   "source": []
  },
  {
   "cell_type": "markdown",
   "metadata": {},
   "source": [
    "### Preprocessing"
   ]
  },
  {
   "cell_type": "code",
   "execution_count": 83,
   "metadata": {
    "collapsed": true
   },
   "outputs": [],
   "source": [
    "def lowpass_filtering(signal, N):    \n",
    "    return np.convolve(signal, np.ones((N,))/N, mode='valid')"
   ]
  },
  {
   "cell_type": "code",
   "execution_count": 84,
   "metadata": {},
   "outputs": [],
   "source": [
    "N = 10\n",
    "Nd = 2\n",
    "sample = lowpass_filtering(tr_input[0,0,:].numpy(), N)[::Nd]\n",
    "\n",
    "tr_input_filtered = torch.zeros([tr_input.shape[0],tr_input.shape[1],sample.shape[0]])\n",
    "te_input_filtered = torch.zeros([te_input.shape[0],te_input.shape[1],sample.shape[0]])\n",
    "\n",
    "for idx1, data in enumerate(tr_input):\n",
    "    for idx2, channel in enumerate(data):\n",
    "        tr_input_filtered[idx1, idx2, :] = torch.from_numpy(lowpass_filtering(channel.numpy(), 10)[::Nd])\n",
    "\n",
    "for idx1, data in enumerate(te_input):\n",
    "    for idx2, channel in enumerate(data):\n",
    "        te_input_filtered[idx1, idx2, :] = torch.from_numpy(lowpass_filtering(channel.numpy(), 10)[::Nd])"
   ]
  },
  {
   "cell_type": "code",
   "execution_count": 85,
   "metadata": {
    "collapsed": true
   },
   "outputs": [],
   "source": [
    "tr_input = tr_input_filtered\n",
    "te_input = te_input_filtered"
   ]
  },
  {
   "cell_type": "code",
   "execution_count": 41,
   "metadata": {
    "collapsed": true
   },
   "outputs": [],
   "source": [
    "# for channel in sample[0:2]:\n",
    "#     f, (ax1, ax2) = plt.subplots(1, 2, figsize=(20,6))\n",
    "#     channel = channel.numpy()\n",
    "#     ax1.plot(channel)\n",
    "#     ax2.plot(channel[0::10])\n",
    "#     plt.show()"
   ]
  },
  {
   "cell_type": "markdown",
   "metadata": {},
   "source": [
    "### Standardize"
   ]
  },
  {
   "cell_type": "code",
   "execution_count": 86,
   "metadata": {
    "collapsed": true
   },
   "outputs": [],
   "source": [
    "num_channel = tr_input.shape[1]\n",
    "signal_len = tr_input.shape[2]\n",
    "\n",
    "tr_input = torch.nn.functional.normalize(tr_input, p=2, dim=0) \n",
    "te_input = torch.nn.functional.normalize(te_input, p=2, dim=0) \n",
    "\n",
    "tr_input, tr_target = Variable(tr_input.view(-1,num_channel*signal_len)), Variable(tr_target)\n",
    "te_input, te_target = Variable(te_input.view(-1,num_channel*signal_len)), Variable(te_target)"
   ]
  },
  {
   "cell_type": "markdown",
   "metadata": {},
   "source": [
    "### PCA"
   ]
  },
  {
   "cell_type": "code",
   "execution_count": 70,
   "metadata": {},
   "outputs": [],
   "source": [
    "# from sklearn.decomposition import PCA\n",
    "# pca = PCA(n_components=30)\n",
    "# pca.fit_transform(X=tr_input)"
   ]
  },
  {
   "cell_type": "markdown",
   "metadata": {},
   "source": [
    "### training"
   ]
  },
  {
   "cell_type": "code",
   "execution_count": 79,
   "metadata": {
    "collapsed": true
   },
   "outputs": [],
   "source": [
    "class Net(nn.Module):\n",
    "    def __init__(self, size):\n",
    "        super(Net, self).__init__()\n",
    "        self.fc1 = nn.Linear(size[1] * size[2], size[2])\n",
    "        self.fc2 = nn.Linear(size[2], size[2])\n",
    "        self.fc3 = nn.Linear(size[2], 2)\n",
    "        \n",
    "#         self.fc1 = nn.Linear(28 * 500, 500)\n",
    "#         self.fc2 = nn.Linear(500, 500)\n",
    "#         self.fc3 = nn.Linear(500, 2)\n",
    "        \n",
    "    def forward(self, x, mode=False):\n",
    "        x = F.relu(self.fc1(x))\n",
    "        x = F.dropout(x, p=0.5)\n",
    "        x = F.relu(self.fc2(x))\n",
    "        x = F.dropout(x, p=0.5)\n",
    "        x = self.fc3(x)\n",
    "        return x"
   ]
  },
  {
   "cell_type": "code",
   "execution_count": 8,
   "metadata": {
    "collapsed": true
   },
   "outputs": [],
   "source": []
  },
  {
   "cell_type": "code",
   "execution_count": 87,
   "metadata": {
    "scrolled": true
   },
   "outputs": [
    {
     "name": "stdout",
     "output_type": "stream",
     "text": [
      "epoch 0 tr loss 79.41 te loss 25.01\n",
      "epoch 1 tr loss 79.13 te loss 25.06\n",
      "epoch 2 tr loss 78.91 te loss 25.09\n",
      "epoch 3 tr loss 78.66 te loss 25.11\n",
      "epoch 4 tr loss 78.36 te loss 25.14\n",
      "epoch 5 tr loss 78.02 te loss 25.18\n",
      "epoch 6 tr loss 77.58 te loss 25.28\n",
      "epoch 7 tr loss 77.07 te loss 25.43\n",
      "epoch 8 tr loss 76.46 te loss 25.67\n",
      "epoch 9 tr loss 75.79 te loss 26.07\n",
      "epoch 10 tr loss 75.08 te loss 26.62\n",
      "epoch 11 tr loss 74.31 te loss 27.32\n",
      "epoch 12 tr loss 73.56 te loss 28.16\n",
      "epoch 13 tr loss 72.80 te loss 29.03\n",
      "epoch 14 tr loss 72.01 te loss 29.95\n",
      "epoch 15 tr loss 71.22 te loss 30.81\n",
      "epoch 16 tr loss 70.33 te loss 31.65\n",
      "epoch 17 tr loss 69.35 te loss 32.54\n",
      "epoch 18 tr loss 68.30 te loss 33.42\n",
      "epoch 19 tr loss 67.17 te loss 34.39\n",
      "epoch 20 tr loss 65.91 te loss 35.45\n",
      "epoch 21 tr loss 64.53 te loss 36.70\n",
      "epoch 22 tr loss 63.13 te loss 38.00\n",
      "epoch 23 tr loss 61.68 te loss 39.54\n",
      "epoch 24 tr loss 60.15 te loss 40.82\n",
      "epoch 25 tr loss 58.59 te loss 42.68\n",
      "epoch 26 tr loss 57.09 te loss 44.22\n",
      "epoch 27 tr loss 55.51 te loss 45.44\n",
      "epoch 28 tr loss 53.93 te loss 46.78\n",
      "epoch 29 tr loss 52.47 te loss 48.24\n",
      "epoch 30 tr loss 51.09 te loss 49.67\n",
      "epoch 31 tr loss 49.64 te loss 50.41\n",
      "epoch 32 tr loss 48.29 te loss 52.24\n",
      "epoch 33 tr loss 46.98 te loss 52.07\n",
      "epoch 34 tr loss 45.79 te loss 52.47\n",
      "epoch 35 tr loss 44.43 te loss 53.86\n",
      "epoch 36 tr loss 43.24 te loss 53.48\n",
      "epoch 37 tr loss 41.77 te loss 52.56\n",
      "epoch 38 tr loss 40.50 te loss 53.06\n",
      "epoch 39 tr loss 39.36 te loss 53.63\n",
      "epoch 40 tr loss 37.99 te loss 53.27\n",
      "epoch 41 tr loss 36.94 te loss 53.88\n",
      "epoch 42 tr loss 35.77 te loss 53.12\n",
      "epoch 43 tr loss 34.87 te loss 51.24\n",
      "epoch 44 tr loss 33.59 te loss 52.10\n",
      "epoch 45 tr loss 32.43 te loss 51.01\n",
      "epoch 46 tr loss 31.40 te loss 51.65\n",
      "epoch 47 tr loss 30.34 te loss 51.03\n",
      "epoch 48 tr loss 28.94 te loss 50.53\n",
      "epoch 49 tr loss 28.11 te loss 50.86\n",
      "tr error 18.67% 59/316\n",
      "te error 36.00% 36/100\n"
     ]
    }
   ],
   "source": [
    "# construct and train model\n",
    "model = Net(tr_input_filtered.shape)\n",
    "tr_loss, te_loss = bci.train_model(model, tr_input, tr_target, 4, te_input, te_target, 4, 50)\n",
    "torch.save(model.state_dict(), os.getcwd() + \"v1.pth\")\n",
    "\n",
    "# compute train and test errors\n",
    "nb_tr_errors = bci.compute_nb_errors(model, tr_input, tr_target, 4)\n",
    "nb_te_errors = bci.compute_nb_errors(model, te_input, te_target, 4)\n",
    "\n",
    "print('tr error {:0.2f}% {:d}/{:d}'.format((100 * nb_tr_errors) / tr_input.size(0), nb_tr_errors, tr_input.size(0)))\n",
    "print('te error {:0.2f}% {:d}/{:d}'.format((100 * nb_te_errors) / te_input.size(0), nb_te_errors, te_input.size(0)))"
   ]
  },
  {
   "cell_type": "code",
   "execution_count": 62,
   "metadata": {
    "scrolled": false
   },
   "outputs": [
    {
     "data": {
      "image/png": "[encoded data removed]",
      "text/plain": [
       "<matplotlib.figure.Figure at 0x7fc44a3f4b38>"
      ]
     },
     "metadata": {},
     "output_type": "display_data"
    }
   ],
   "source": [
    "import matplotlib as mpl\n",
    "mpl.rcParams['figure.dpi']= 150\n",
    "\n",
    "plt.figure()\n",
    "plt.plot(tr_loss, label='training loss')\n",
    "plt.plot(te_loss, label='validation loss')\n",
    "plt.legend(loc='upper left')\n",
    "plt.show()"
   ]
  },
  {
   "cell_type": "markdown",
   "metadata": {},
   "source": [
    "### record"
   ]
  },
  {
   "cell_type": "code",
   "execution_count": null,
   "metadata": {
    "collapsed": true
   },
   "outputs": [],
   "source": [
    "# samples = tr_input[0,:,:].numpy()\n",
    "# for sample in samples:\n",
    "# #     sample = sample[0,:]\n",
    "# #     sample = samples[0,0,:]\n",
    "#     f, (ax1, ax2) = plt.subplots(1, 2, figsize=(20,6))\n",
    "#     ax1.plot(sample)\n",
    "#     ax2.plot(abs(np.fft.fft(sample)))\n",
    "#     plt.show()\n",
    "\n",
    "#     N = 10\n",
    "#     sample_filtered = np.convolve(sample, np.ones((N,))/N, mode='valid')\n",
    "\n",
    "#     f, (ax1, ax2) = plt.subplots(1, 2, figsize=(20,6))\n",
    "#     ax1.plot(sample_filtered)\n",
    "#     ax2.plot(abs(np.fft.fft(sample_filtered)))\n",
    "#     plt.show()"
   ]
  }
 ],
 "metadata": {
  "kernelspec": {
   "display_name": "Python 3",
   "language": "python",
   "name": "python3"
  },
  "language_info": {
   "codemirror_mode": {
    "name": "ipython",
    "version": 3
   },
   "file_extension": ".py",
   "mimetype": "text/x-python",
   "name": "python",
   "nbconvert_exporter": "python",
   "pygments_lexer": "ipython3",
   "version": "3.6.3"
  }
 },
 "nbformat": 4,
 "nbformat_minor": 2
}
