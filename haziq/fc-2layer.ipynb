{
 "cells": [
  {
   "cell_type": "code",
   "execution_count": 1,
   "metadata": {},
   "outputs": [],
   "source": [
    "import os\n",
    "import numpy as np\n",
    "import matplotlib.pyplot as plt\n",
    "\n",
    "import dlc_bci as bci\n",
    "from dlc_practical_prologue import *\n",
    "\n",
    "import torch\n",
    "from torch import nn\n",
    "from torch.nn import functional as F\n",
    "from torch.autograd import Variable"
   ]
  },
  {
   "cell_type": "markdown",
   "metadata": {},
   "source": [
    "Load dataset (Dont convert to one hot labels if using cross entropy loss)"
   ]
  },
  {
   "cell_type": "code",
   "execution_count": 2,
   "metadata": {},
   "outputs": [],
   "source": [
    "tr_input, tr_target = bci.load(\"bci\", train=True, one_khz=False)\n",
    "te_input, te_target = bci.load(\"bci\", train=False, one_khz=False)\n",
    "\n",
    "tr_target_onehot = convert_to_one_hot_labels(tr_input, tr_target)\n",
    "te_target_onehot = convert_to_one_hot_labels(te_input, te_target)"
   ]
  },
  {
   "cell_type": "markdown",
   "metadata": {},
   "source": [
    "Standardize"
   ]
  },
  {
   "cell_type": "code",
   "execution_count": 3,
   "metadata": {},
   "outputs": [],
   "source": [
    "tr_input = torch.nn.functional.normalize(tr_input, p=2, dim=0) \n",
    "te_input = torch.nn.functional.normalize(te_input, p=2, dim=0) \n",
    "\n",
    "tr_input, tr_target, tr_target_onehot = Variable(tr_input.view(-1,28*50)), Variable(tr_target), Variable(tr_target_onehot)\n",
    "te_input, te_target, te_target_onehot = Variable(te_input.view(-1,28*50)), Variable(te_target), Variable(te_target_onehot)"
   ]
  },
  {
   "cell_type": "markdown",
   "metadata": {},
   "source": [
    "Output of NN is still a vector (cross entropy loss handles log-softmax)"
   ]
  },
  {
   "cell_type": "code",
   "execution_count": 4,
   "metadata": {},
   "outputs": [],
   "source": [
    "class Net(nn.Module):\n",
    "    def __init__(self):\n",
    "        super(Net, self).__init__()\n",
    "        self.fc1 = nn.Linear(28 * 50, 200)\n",
    "        self.fc2 = nn.Linear(200, 2)\n",
    "        \n",
    "    def forward(self, x, mode=False):\n",
    "        x = F.relu(self.fc1(x))\n",
    "        x = F.dropout(x, p=0.5, training=mode)\n",
    "        x = self.fc2(x)\n",
    "        #x = F.softmax(x)\n",
    "        return x"
   ]
  },
  {
   "cell_type": "code",
   "execution_count": 5,
   "metadata": {
    "scrolled": true
   },
   "outputs": [
    {
     "name": "stdout",
     "output_type": "stream",
     "text": [
      "epoch 0 tr loss 55.19 te loss 17.36\n",
      "epoch 1 tr loss 54.94 te loss 17.37\n",
      "epoch 2 tr loss 54.74 te loss 17.47\n",
      "epoch 3 tr loss 54.62 te loss 17.52\n",
      "epoch 4 tr loss 54.65 te loss 17.52\n",
      "epoch 5 tr loss 54.23 te loss 17.65\n",
      "epoch 6 tr loss 54.55 te loss 17.79\n",
      "epoch 7 tr loss 53.84 te loss 18.08\n",
      "epoch 8 tr loss 53.55 te loss 18.16\n",
      "epoch 9 tr loss 53.33 te loss 18.83\n",
      "epoch 10 tr loss 53.43 te loss 19.14\n",
      "epoch 11 tr loss 53.11 te loss 19.94\n",
      "epoch 12 tr loss 53.16 te loss 20.03\n",
      "epoch 13 tr loss 52.46 te loss 20.60\n",
      "epoch 14 tr loss 53.26 te loss 20.16\n",
      "epoch 15 tr loss 51.62 te loss 21.80\n",
      "epoch 16 tr loss 52.16 te loss 21.69\n",
      "epoch 17 tr loss 52.26 te loss 22.01\n",
      "epoch 18 tr loss 51.41 te loss 23.27\n",
      "epoch 19 tr loss 50.78 te loss 23.17\n",
      "epoch 20 tr loss 51.78 te loss 24.47\n",
      "epoch 21 tr loss 50.84 te loss 23.84\n",
      "epoch 22 tr loss 50.09 te loss 26.10\n",
      "epoch 23 tr loss 50.80 te loss 24.70\n",
      "epoch 24 tr loss 49.99 te loss 25.42\n",
      "epoch 25 tr loss 49.39 te loss 26.01\n",
      "epoch 26 tr loss 48.90 te loss 28.50\n",
      "epoch 27 tr loss 50.95 te loss 26.95\n",
      "epoch 28 tr loss 49.23 te loss 26.81\n",
      "epoch 29 tr loss 48.07 te loss 28.12\n",
      "epoch 30 tr loss 48.59 te loss 26.03\n",
      "epoch 31 tr loss 48.42 te loss 27.97\n",
      "epoch 32 tr loss 47.05 te loss 30.91\n",
      "epoch 33 tr loss 46.91 te loss 30.36\n",
      "epoch 34 tr loss 46.39 te loss 31.03\n",
      "epoch 35 tr loss 45.92 te loss 30.66\n",
      "epoch 36 tr loss 46.76 te loss 33.80\n",
      "epoch 37 tr loss 47.01 te loss 33.50\n",
      "epoch 38 tr loss 46.37 te loss 33.49\n",
      "epoch 39 tr loss 45.90 te loss 32.68\n",
      "epoch 40 tr loss 45.13 te loss 35.02\n",
      "epoch 41 tr loss 45.45 te loss 34.42\n",
      "epoch 42 tr loss 44.72 te loss 34.19\n",
      "epoch 43 tr loss 42.91 te loss 38.14\n",
      "epoch 44 tr loss 43.37 te loss 39.77\n",
      "epoch 45 tr loss 42.51 te loss 43.18\n",
      "epoch 46 tr loss 43.52 te loss 38.04\n",
      "epoch 47 tr loss 44.86 te loss 39.67\n",
      "epoch 48 tr loss 43.38 te loss 37.31\n",
      "epoch 49 tr loss 40.13 te loss 42.50\n",
      "tr error 31.33% 99/316\n",
      "te error 56.00% 56/100\n"
     ]
    }
   ],
   "source": [
    "# construct and train model\n",
    "model = Net()\n",
    "tr_loss, te_loss = bci.train_model(model, tr_input, tr_target, 4, te_input, te_target, 4, 50)\n",
    "#torch.save(model.state_dict(), os.getcwd() + \"v1.pth\")\n",
    "\n",
    "# compute train and test errors\n",
    "nb_tr_errors = bci.compute_nb_errors(model, tr_input, tr_target_onehot, 4)\n",
    "nb_te_errors = bci.compute_nb_errors(model, te_input, te_target_onehot, 4)\n",
    "\n",
    "print('tr error {:0.2f}% {:d}/{:d}'.format((100 * nb_tr_errors) / tr_input.size(0), nb_tr_errors, tr_input.size(0)))\n",
    "print('te error {:0.2f}% {:d}/{:d}'.format((100 * nb_te_errors) / te_input.size(0), nb_te_errors, te_input.size(0)))"
   ]
  },
  {
   "cell_type": "code",
   "execution_count": null,
   "metadata": {},
   "outputs": [],
   "source": [
    "import matplotlib as mpl\n",
    "mpl.rcParams['figure.dpi']= 150\n",
    "\n",
    "plt.figure()\n",
    "plt.plot(tr_loss, label='training loss')\n",
    "plt.plot(te_loss, label='validation loss')\n",
    "plt.legend(loc='upper left')"
   ]
  }
 ],
 "metadata": {
  "kernelspec": {
   "display_name": "Python [default]",
   "language": "python",
   "name": "python3"
  },
  "language_info": {
   "codemirror_mode": {
    "name": "ipython",
    "version": 3
   },
   "file_extension": ".py",
   "mimetype": "text/x-python",
   "name": "python",
   "nbconvert_exporter": "python",
   "pygments_lexer": "ipython3",
   "version": "3.5.4"
  }
 },
 "nbformat": 4,
 "nbformat_minor": 2
}
