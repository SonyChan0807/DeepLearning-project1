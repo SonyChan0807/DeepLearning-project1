{
 "cells": [
  {
   "cell_type": "code",
   "execution_count": null,
   "metadata": {},
   "outputs": [],
   "source": [
    "import os\n",
    "import numpy as np\n",
    "import matplotlib.pyplot as plt\n",
    "\n",
    "import dlc_bci as bci\n",
    "from dlc_practical_prologue import *\n",
    "\n",
    "import torch\n",
    "from torch import nn\n",
    "from torch.nn import functional as F\n",
    "from torch.autograd import Variable"
   ]
  },
  {
   "cell_type": "markdown",
   "metadata": {},
   "source": [
    "Load dataset"
   ]
  },
  {
   "cell_type": "code",
   "execution_count": null,
   "metadata": {},
   "outputs": [],
   "source": [
    "# Load dataset\n",
    "tr_input, tr_target = bci.load(\"bci\", train=True, one_khz=False)\n",
    "te_input, te_target = bci.load(\"bci\", train=False, one_khz=False)\n",
    "\n",
    "# Prepare onehot vector for computation of loss\n",
    "tr_target_onehot = convert_to_one_hot_labels(tr_input, tr_target)\n",
    "te_target_onehot = convert_to_one_hot_labels(te_input, te_target)"
   ]
  },
  {
   "cell_type": "markdown",
   "metadata": {},
   "source": [
    "Standardize"
   ]
  },
  {
   "cell_type": "code",
   "execution_count": null,
   "metadata": {},
   "outputs": [],
   "source": [
    "# normalize\n",
    "tr_input = torch.nn.functional.normalize(tr_input, p=2, dim=0) \n",
    "te_input = torch.nn.functional.normalize(te_input, p=2, dim=0) \n",
    "\n",
    "# Convert to 4D tensor [dataset size, number of channels, rows, cols]\n",
    "tr_input = tr_input[:, np.newaxis, :, :]\n",
    "te_input = te_input[:, np.newaxis, :, :]\n",
    "\n",
    "# Convert to pytorch variable\n",
    "tr_input, tr_target, tr_target_onehot = Variable(tr_input), Variable(tr_target), Variable(tr_target_onehot)\n",
    "te_input, te_target, te_target_onehot = Variable(te_input), Variable(te_target), Variable(te_target_onehot)"
   ]
  },
  {
   "cell_type": "markdown",
   "metadata": {},
   "source": [
    "Output of NN is still a vector (cross entropy loss handles log-softmax)"
   ]
  },
  {
   "cell_type": "code",
   "execution_count": null,
   "metadata": {},
   "outputs": [],
   "source": [
    "class Net(nn.Module):\n",
    "    def __init__(self):\n",
    "        super(Net, self).__init__()\n",
    "        self.conv1a = nn.Conv2d(in_channels=1, out_channels=2, kernel_size=(28, 5), stride=2)\n",
    "        self.conv1b = nn.Conv2d(in_channels=1, out_channels=2, kernel_size=(28, 10), stride=2)\n",
    "        self.conv1c = nn.Conv2d(in_channels=1, out_channels=2, kernel_size=(28, 15), stride=2)\n",
    "        \n",
    "        self.fc1 = nn.Linear(124, 200)\n",
    "        self.fc2 = nn.Linear(200, 2)\n",
    "        \n",
    "    def forward(self, x, mode=False):\n",
    "        \n",
    "        # convolve\n",
    "        x1a = self.conv1a(x)\n",
    "        x1b = self.conv1b(x)\n",
    "        x1c = self.conv1c(x)\n",
    "        \n",
    "        # reshape and concat\n",
    "        x = torch.cat((x1a.view(x1a.size(0), -1), x1b.view(x1b.size(0), -1), x1c.view(x1c.size(0), -1)), 1)\n",
    "        \n",
    "        # fc\n",
    "        x = F.relu(self.fc1(x))\n",
    "        x = F.dropout(x, p=0.5, training=mode)\n",
    "        x = self.fc2(x)\n",
    "        return x"
   ]
  },
  {
   "cell_type": "code",
   "execution_count": null,
   "metadata": {
    "scrolled": true
   },
   "outputs": [],
   "source": [
    "# construct and train model\n",
    "model = Net()\n",
    "tr_loss, te_loss = bci.train_model(model, tr_input, tr_target, 4, te_input, te_target, 4, 50)\n",
    "#torch.save(model.state_dict(), os.getcwd() + \"v1.pth\")\n",
    "\n",
    "# compute train and test errors\n",
    "nb_tr_errors = bci.compute_nb_errors(model, tr_input, tr_target_onehot, 4)\n",
    "nb_te_errors = bci.compute_nb_errors(model, te_input, te_target_onehot, 4)\n",
    "\n",
    "print('tr error {:0.2f}% {:d}/{:d}'.format((100 * nb_tr_errors) / tr_input.size(0), nb_tr_errors, tr_input.size(0)))\n",
    "print('te error {:0.2f}% {:d}/{:d}'.format((100 * nb_te_errors) / te_input.size(0), nb_te_errors, te_input.size(0)))"
   ]
  },
  {
   "cell_type": "code",
   "execution_count": null,
   "metadata": {},
   "outputs": [],
   "source": [
    "import matplotlib as mpl\n",
    "mpl.rcParams['figure.dpi']= 150\n",
    "\n",
    "plt.figure()\n",
    "plt.plot(tr_loss, label='training loss')\n",
    "plt.plot(te_loss, label='validation loss')\n",
    "plt.legend(loc='upper left')"
   ]
  }
 ],
 "metadata": {
  "kernelspec": {
   "display_name": "Python [default]",
   "language": "python",
   "name": "python3"
  },
  "language_info": {
   "codemirror_mode": {
    "name": "ipython",
    "version": 3
   },
   "file_extension": ".py",
   "mimetype": "text/x-python",
   "name": "python",
   "nbconvert_exporter": "python",
   "pygments_lexer": "ipython3",
   "version": "3.5.4"
  }
 },
 "nbformat": 4,
 "nbformat_minor": 2
}
