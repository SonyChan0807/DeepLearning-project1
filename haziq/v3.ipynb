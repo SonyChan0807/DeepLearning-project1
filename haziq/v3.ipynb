{
 "cells": [
  {
   "cell_type": "code",
   "execution_count": 1,
   "metadata": {},
   "outputs": [],
   "source": [
    "import os\n",
    "import numpy as np\n",
    "import matplotlib.pyplot as plt\n",
    "\n",
    "import dlc_bci as bci\n",
    "from dlc_practical_prologue import *\n",
    "\n",
    "import torch\n",
    "from torch import nn\n",
    "from torch.nn import functional as F\n",
    "from torch.autograd import Variable"
   ]
  },
  {
   "cell_type": "markdown",
   "metadata": {},
   "source": [
    "Load dataset"
   ]
  },
  {
   "cell_type": "code",
   "execution_count": 2,
   "metadata": {},
   "outputs": [],
   "source": [
    "tr_input, tr_target = bci.load(\"bci\", train=True, one_khz=True)\n",
    "te_input, te_target = bci.load(\"bci\", train=False, one_khz=True)\n",
    "\n",
    "# convert to one hot labels\n",
    "tr_target = convert_to_one_hot_labels(tr_input, tr_target)\n",
    "te_target = convert_to_one_hot_labels(te_input, te_target)\n",
    "\n",
    "#b = np.zeros((np.shape(tr_target.numpy())[0], np.amax(tr_target.numpy()) + 1))\n",
    "#b[np.arange(np.shape(tr_target.numpy())[0]), tr_target] = 1\n",
    "#tr_target = torch.from_numpy(b)\n",
    "#b = np.zeros((np.shape(te_target.numpy())[0], np.amax(te_target.numpy()) + 1))\n",
    "#b[np.arange(np.shape(te_target.numpy())[0]), te_target] = 1\n",
    "#te_target = torch.from_numpy(b)\n",
    "\n",
    "# normalize\n",
    "tr_input = torch.nn.functional.normalize(tr_input, p=2, dim=0) \n",
    "te_input = torch.nn.functional.normalize(te_input, p=2, dim=0) \n",
    "\n",
    "# cnn expects 4D tensor\n",
    "tr_input = tr_input[:, np.newaxis, :, :]\n",
    "te_input = te_input[:, np.newaxis, :, :]\n",
    "\n",
    "# convert to pytorch variable\n",
    "tr_input, tr_target = Variable(tr_input), Variable(tr_target)\n",
    "te_input, te_target = Variable(te_input), Variable(te_target)"
   ]
  },
  {
   "cell_type": "code",
   "execution_count": 5,
   "metadata": {},
   "outputs": [],
   "source": [
    "class Net(nn.Module):\n",
    "    def __init__(self):\n",
    "        super(Net, self).__init__()\n",
    "        self.conv1a = nn.Conv2d(in_channels=1,  out_channels=16,  kernel_size=(28, 11), stride=2)\n",
    "        self.conv1b = nn.Conv2d(in_channels=16, out_channels=32,  kernel_size=(1, 9),  stride=2)\n",
    "        self.conv1c = nn.Conv2d(in_channels=32, out_channels=64,  kernel_size=(1, 5),  stride=2)\n",
    "        self.conv1d = nn.Conv2d(in_channels=64, out_channels=128, kernel_size=(1, 3),  stride=2)\n",
    "        \n",
    "        self.fc1 = nn.Linear(128*28, 500)\n",
    "        self.fc2 = nn.Linear(500, 2)\n",
    "        \n",
    "    def forward(self, x, mode=False):\n",
    "        \n",
    "        # convolutions\n",
    "        x = self.conv1a(x)        \n",
    "        x = self.conv1b(x)\n",
    "        x = self.conv1c(x)\n",
    "        x = self.conv1d(x)\n",
    "        \n",
    "        x = x.view(4, -1)\n",
    "               \n",
    "        # fc        \n",
    "        x = self.fc1(x)\n",
    "        x = nn.functional.relu(x)\n",
    "        x = self.fc2(x)\n",
    "        return x"
   ]
  },
  {
   "cell_type": "code",
   "execution_count": 6,
   "metadata": {},
   "outputs": [
    {
     "name": "stdout",
     "output_type": "stream",
     "text": [
      "epoch 0 tr loss 81.05 te loss 26.07\n",
      "epoch 1 tr loss 80.58 te loss 26.07\n",
      "epoch 2 tr loss 80.58 te loss 26.05\n",
      "epoch 3 tr loss 80.58 te loss 26.05\n",
      "epoch 4 tr loss 80.58 te loss 26.05\n",
      "epoch 5 tr loss 80.58 te loss 26.05\n",
      "epoch 6 tr loss 80.58 te loss 26.05\n",
      "epoch 7 tr loss 80.58 te loss 26.05\n",
      "epoch 8 tr loss 80.58 te loss 26.05\n",
      "epoch 9 tr loss 80.58 te loss 26.05\n",
      "epoch 10 tr loss 80.58 te loss 26.05\n",
      "epoch 11 tr loss 80.58 te loss 26.05\n",
      "epoch 12 tr loss 80.58 te loss 26.05\n",
      "epoch 13 tr loss 80.58 te loss 26.05\n",
      "epoch 14 tr loss 80.58 te loss 26.05\n",
      "epoch 15 tr loss 80.58 te loss 26.05\n",
      "epoch 16 tr loss 80.58 te loss 26.05\n",
      "epoch 17 tr loss 80.58 te loss 26.05\n",
      "epoch 18 tr loss 80.58 te loss 26.05\n",
      "epoch 19 tr loss 80.58 te loss 26.05\n",
      "epoch 20 tr loss 80.58 te loss 26.06\n",
      "epoch 21 tr loss 80.58 te loss 26.05\n",
      "epoch 22 tr loss 80.58 te loss 26.05\n",
      "epoch 23 tr loss 80.58 te loss 26.04\n",
      "epoch 24 tr loss 80.58 te loss 26.04\n",
      "tr error 49.68% 157/316\n",
      "te error 51.00% 51/100\n"
     ]
    }
   ],
   "source": [
    "# construct and train model\n",
    "model = Net()\n",
    "tr_loss, te_loss = bci.train_model(model, tr_input, tr_target, 4, te_input, te_target, 4, 25)\n",
    "\n",
    "# save model and losses\n",
    "torch.save(model.state_dict(), os.getcwd() + \"v2.pth\")\n",
    "\n",
    "# compute train and test errors\n",
    "nb_tr_errors = bci.compute_nb_errors(model, tr_input, tr_target, 4)\n",
    "nb_te_errors = bci.compute_nb_errors(model, te_input, te_target, 4)\n",
    "\n",
    "print('tr error {:0.2f}% {:d}/{:d}'.format((100 * nb_tr_errors) / tr_input.size(0), nb_tr_errors, tr_input.size(0)))\n",
    "print('te error {:0.2f}% {:d}/{:d}'.format((100 * nb_te_errors) / te_input.size(0), nb_te_errors, te_input.size(0)))"
   ]
  },
  {
   "cell_type": "code",
   "execution_count": null,
   "metadata": {},
   "outputs": [],
   "source": [
    "import matplotlib as mpl\n",
    "mpl.rcParams['figure.dpi']= 150\n",
    "\n",
    "plt.figure()\n",
    "plt.plot(tr_loss, label='training loss')\n",
    "plt.plot(te_loss, label='validation loss')\n",
    "plt.legend(loc='upper left')"
   ]
  }
 ],
 "metadata": {
  "kernelspec": {
   "display_name": "Python 3",
   "language": "python",
   "name": "python3"
  },
  "language_info": {
   "codemirror_mode": {
    "name": "ipython",
    "version": 3
   },
   "file_extension": ".py",
   "mimetype": "text/x-python",
   "name": "python",
   "nbconvert_exporter": "python",
   "pygments_lexer": "ipython3",
   "version": "3.6.3"
  }
 },
 "nbformat": 4,
 "nbformat_minor": 2
}
